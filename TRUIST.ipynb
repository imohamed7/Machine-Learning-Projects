{
  "cells": [
    {
      "cell_type": "code",
      "execution_count": null,
      "id": "6112fe6d",
      "metadata": {
        "id": "6112fe6d"
      },
      "outputs": [],
      "source": [
        "import pandas as pd\n",
        "import numpy as np\n",
        "\n",
        "from sklearn.linear_model import LogisticRegression\n",
        "from sklearn import metrics\n",
        "\n",
        "from sklearn.linear_model import LogisticRegression\n",
        "from sklearn import metrics\n",
        "from sklearn.model_selection  import train_test_split\n",
        "\n",
        "from sklearn.metrics import accuracy_score, f1_score, precision_score, recall_score, classification_report, confusion_matrix\n"
      ]
    },
    {
      "cell_type": "markdown",
      "id": "810fa7d3",
      "metadata": {
        "id": "810fa7d3"
      },
      "source": [
        "# Load data set"
      ]
    },
    {
      "cell_type": "code",
      "execution_count": null,
      "id": "40fe10f9",
      "metadata": {
        "id": "40fe10f9"
      },
      "outputs": [],
      "source": [
        "df_test=pd.read_csv(\"TruistTestCleaned.csv\" , usecols = ['id','age','job','marital','education','default','balance','housing','loan'\n",
        "                                            ,'day','month','duration','campaign','pdays','previous','poutcome'\n",
        "                                            ,'generation','state'])\n",
        "df_train=pd.read_csv(\"TruistTrainCleaned.csv\", usecols = ['id','age','job','marital','education','default','balance','housing','loan'\n",
        "                                            ,'day','month','duration','campaign','pdays','previous','poutcome'\n",
        "                                            ,'cd','generation','state',])\n"
      ]
    },
    {
      "cell_type": "markdown",
      "id": "4715b464",
      "metadata": {
        "id": "4715b464"
      },
      "source": [
        "# Analyze data"
      ]
    },
    {
      "cell_type": "code",
      "execution_count": null,
      "id": "020a7d30",
      "metadata": {
        "id": "020a7d30",
        "outputId": "7ffc6d14-3edb-4c7f-a81b-61a7d3fd7a27"
      },
      "outputs": [
        {
          "data": {
            "text/html": [
              "<div>\n",
              "<style scoped>\n",
              "    .dataframe tbody tr th:only-of-type {\n",
              "        vertical-align: middle;\n",
              "    }\n",
              "\n",
              "    .dataframe tbody tr th {\n",
              "        vertical-align: top;\n",
              "    }\n",
              "\n",
              "    .dataframe thead th {\n",
              "        text-align: right;\n",
              "    }\n",
              "</style>\n",
              "<table border=\"1\" class=\"dataframe\">\n",
              "  <thead>\n",
              "    <tr style=\"text-align: right;\">\n",
              "      <th></th>\n",
              "      <th>day</th>\n",
              "      <th>education</th>\n",
              "      <th>job</th>\n",
              "      <th>generation</th>\n",
              "      <th>previous</th>\n",
              "      <th>campaign</th>\n",
              "      <th>marital</th>\n",
              "      <th>age</th>\n",
              "      <th>default</th>\n",
              "      <th>balance</th>\n",
              "      <th>housing</th>\n",
              "      <th>loan</th>\n",
              "      <th>month</th>\n",
              "      <th>duration</th>\n",
              "      <th>pdays</th>\n",
              "      <th>poutcome</th>\n",
              "      <th>state</th>\n",
              "      <th>id</th>\n",
              "      <th>cd</th>\n",
              "    </tr>\n",
              "  </thead>\n",
              "  <tbody>\n",
              "    <tr>\n",
              "      <th>0</th>\n",
              "      <td>29</td>\n",
              "      <td>tertiary</td>\n",
              "      <td>student</td>\n",
              "      <td>Millennials</td>\n",
              "      <td>1</td>\n",
              "      <td>39</td>\n",
              "      <td>married</td>\n",
              "      <td>33</td>\n",
              "      <td>no</td>\n",
              "      <td>17068</td>\n",
              "      <td>yes</td>\n",
              "      <td>yes</td>\n",
              "      <td>feb</td>\n",
              "      <td>3727</td>\n",
              "      <td>220</td>\n",
              "      <td>failure</td>\n",
              "      <td>AS</td>\n",
              "      <td>23192</td>\n",
              "      <td>1</td>\n",
              "    </tr>\n",
              "    <tr>\n",
              "      <th>1</th>\n",
              "      <td>29</td>\n",
              "      <td>tertiary</td>\n",
              "      <td>management</td>\n",
              "      <td>Millennials</td>\n",
              "      <td>6</td>\n",
              "      <td>6</td>\n",
              "      <td>married</td>\n",
              "      <td>29</td>\n",
              "      <td>no</td>\n",
              "      <td>999</td>\n",
              "      <td>no</td>\n",
              "      <td>no</td>\n",
              "      <td>feb</td>\n",
              "      <td>4080</td>\n",
              "      <td>323</td>\n",
              "      <td>failure</td>\n",
              "      <td>IA</td>\n",
              "      <td>2011</td>\n",
              "      <td>0</td>\n",
              "    </tr>\n",
              "    <tr>\n",
              "      <th>2</th>\n",
              "      <td>29</td>\n",
              "      <td>tertiary</td>\n",
              "      <td>management</td>\n",
              "      <td>Gen X</td>\n",
              "      <td>15</td>\n",
              "      <td>38</td>\n",
              "      <td>married</td>\n",
              "      <td>39</td>\n",
              "      <td>no</td>\n",
              "      <td>4896</td>\n",
              "      <td>no</td>\n",
              "      <td>no</td>\n",
              "      <td>feb</td>\n",
              "      <td>172</td>\n",
              "      <td>115</td>\n",
              "      <td>failure</td>\n",
              "      <td>PA</td>\n",
              "      <td>14021</td>\n",
              "      <td>0</td>\n",
              "    </tr>\n",
              "  </tbody>\n",
              "</table>\n",
              "</div>"
            ],
            "text/plain": [
              "   day education         job   generation  previous  campaign  marital  age  \\\n",
              "0   29  tertiary     student  Millennials         1        39  married   33   \n",
              "1   29  tertiary  management  Millennials         6         6  married   29   \n",
              "2   29  tertiary  management        Gen X        15        38  married   39   \n",
              "\n",
              "  default  balance housing loan month  duration  pdays poutcome state     id  \\\n",
              "0      no    17068     yes  yes   feb      3727    220  failure    AS  23192   \n",
              "1      no      999      no   no   feb      4080    323  failure    IA   2011   \n",
              "2      no     4896      no   no   feb       172    115  failure    PA  14021   \n",
              "\n",
              "   cd  \n",
              "0   1  \n",
              "1   0  \n",
              "2   0  "
            ]
          },
          "execution_count": 3,
          "metadata": {},
          "output_type": "execute_result"
        }
      ],
      "source": [
        "df_train.head(3)"
      ]
    },
    {
      "cell_type": "code",
      "execution_count": null,
      "id": "ded7a707",
      "metadata": {
        "id": "ded7a707",
        "outputId": "198d69ab-ea17-4a01-c45f-595bafbb9aa0"
      },
      "outputs": [
        {
          "name": "stdout",
          "output_type": "stream",
          "text": [
            "<class 'pandas.core.frame.DataFrame'>\n",
            "RangeIndex: 36871 entries, 0 to 36870\n",
            "Data columns (total 19 columns):\n",
            " #   Column      Non-Null Count  Dtype \n",
            "---  ------      --------------  ----- \n",
            " 0   day         36871 non-null  int64 \n",
            " 1   education   36871 non-null  object\n",
            " 2   job         36871 non-null  object\n",
            " 3   generation  36871 non-null  object\n",
            " 4   previous    36871 non-null  int64 \n",
            " 5   campaign    36871 non-null  int64 \n",
            " 6   marital     36871 non-null  object\n",
            " 7   age         36871 non-null  int64 \n",
            " 8   default     36871 non-null  object\n",
            " 9   balance     36871 non-null  int64 \n",
            " 10  housing     36871 non-null  object\n",
            " 11  loan        36871 non-null  object\n",
            " 12  month       36871 non-null  object\n",
            " 13  duration    36871 non-null  int64 \n",
            " 14  pdays       36871 non-null  int64 \n",
            " 15  poutcome    36871 non-null  object\n",
            " 16  state       36871 non-null  object\n",
            " 17  id          36871 non-null  int64 \n",
            " 18  cd          36871 non-null  int64 \n",
            "dtypes: int64(9), object(10)\n",
            "memory usage: 5.3+ MB\n"
          ]
        }
      ],
      "source": [
        "df_train.info()"
      ]
    },
    {
      "cell_type": "markdown",
      "id": "86a32adc",
      "metadata": {
        "id": "86a32adc"
      },
      "source": [
        "# Datasets clean up"
      ]
    },
    {
      "cell_type": "code",
      "execution_count": null,
      "id": "f1e82d4d",
      "metadata": {
        "id": "f1e82d4d",
        "outputId": "d8d6262e-a9c5-4ba5-b982-3354cf0d4855"
      },
      "outputs": [
        {
          "data": {
            "text/plain": [
              "array(['student', 'management', 'retired', 'blue-collar', 'unknown',\n",
              "       'services', 'technician', 'admin.', 'unemployed', 'entrepreneur',\n",
              "       'housemaid', 'self-employed'], dtype=object)"
            ]
          },
          "execution_count": 5,
          "metadata": {},
          "output_type": "execute_result"
        }
      ],
      "source": [
        "#Get unique values in each of the Objects\n",
        "df_train['job'].unique()"
      ]
    },
    {
      "cell_type": "code",
      "execution_count": null,
      "id": "fd8cfe39",
      "metadata": {
        "id": "fd8cfe39",
        "outputId": "5c1ffe61-4849-4275-f7b7-2caa4578ef9a"
      },
      "outputs": [
        {
          "name": "stderr",
          "output_type": "stream",
          "text": [
            "C:\\Users\\pramo\\AppData\\Local\\Temp\\ipykernel_30120\\3222945724.py:4: FutureWarning: The default value of regex will change from True to False in a future version.\n",
            "  df_train['job'] = df_train['job'].str.replace('\\W', '')\n"
          ]
        },
        {
          "data": {
            "text/plain": [
              "array(['STUDENT', 'MANAGEMENT', 'RETIRED', 'BLUECOLLAR', 'UNKNOWN',\n",
              "       'SERVICES', 'TECHNICIAN', 'ADMIN', 'UNEMPLOYED', 'ENTREPRENEUR',\n",
              "       'HOUSEMAID', 'SELFEMPLOYED'], dtype=object)"
            ]
          },
          "execution_count": 6,
          "metadata": {},
          "output_type": "execute_result"
        }
      ],
      "source": [
        "#Converting to Upper case\n",
        "df_train['job'] = df_train['job'].str.upper()\n",
        "#removing all the special character\n",
        "df_train['job'] = df_train['job'].str.replace('\\W', '')\n",
        "#Replace NaNs to Unknown. Since Unknown is already a category\n",
        "df_train[['job']] = df_train[['job']].fillna('UNKNOWN')\n",
        "#df_train['job'].fillna('UNKNOWN')\n",
        "df_train['job'].unique()"
      ]
    },
    {
      "cell_type": "code",
      "execution_count": null,
      "id": "0c35d846",
      "metadata": {
        "id": "0c35d846",
        "outputId": "3ddeef06-6ba3-4864-8e36-096b40df59a1"
      },
      "outputs": [
        {
          "data": {
            "text/plain": [
              "array(['MARRIED', 'SINGLE', 'DIVORCED', 'OTHER'], dtype=object)"
            ]
          },
          "execution_count": 7,
          "metadata": {},
          "output_type": "execute_result"
        }
      ],
      "source": [
        "df_train['marital'].unique()\n",
        "#Converting to Upper case\n",
        "df_train['marital'] = df_train['marital'].str.upper()\n",
        "df_train[['marital']] = df_train[['marital']].fillna('UNKNOWN')\n",
        "df_train['marital'].unique()"
      ]
    },
    {
      "cell_type": "code",
      "execution_count": null,
      "id": "1a4c7d2a",
      "metadata": {
        "id": "1a4c7d2a",
        "outputId": "1989d1b9-02b3-4cb6-d9fb-2c99f84f04fc"
      },
      "outputs": [
        {
          "data": {
            "text/plain": [
              "array(['tertiary', 'primary', 'secondary'], dtype=object)"
            ]
          },
          "execution_count": 8,
          "metadata": {},
          "output_type": "execute_result"
        }
      ],
      "source": [
        "df_train['education'].unique()"
      ]
    },
    {
      "cell_type": "code",
      "execution_count": null,
      "id": "795ecde1",
      "metadata": {
        "id": "795ecde1",
        "outputId": "503550c7-0715-425a-d02c-6fc54e79f85a"
      },
      "outputs": [
        {
          "data": {
            "text/plain": [
              "array(['TERTIARY', 'PRIMARY', 'SECONDARY'], dtype=object)"
            ]
          },
          "execution_count": 9,
          "metadata": {},
          "output_type": "execute_result"
        }
      ],
      "source": [
        "#Converting to Upper case\n",
        "df_train['education'] = df_train['education'].str.upper()\n",
        "#Replacing the PRIMERY to PRIMARY\n",
        "df_train['education'] = df_train['education'].str.replace('PRIMERY', 'PRIMARY')\n",
        "#Replacing the SECENDARY to SECONDARY\n",
        "df_train['education'] = df_train['education'].str.replace('SECENDARY', 'SECONDARY')\n",
        "df_train['education'].unique()"
      ]
    },
    {
      "cell_type": "code",
      "execution_count": null,
      "id": "b41e06cb",
      "metadata": {
        "id": "b41e06cb",
        "outputId": "3194f4a2-ec21-4e94-f12f-dd8e561fd144"
      },
      "outputs": [
        {
          "data": {
            "text/plain": [
              "array(['no', 'yes'], dtype=object)"
            ]
          },
          "execution_count": 10,
          "metadata": {},
          "output_type": "execute_result"
        }
      ],
      "source": [
        "df_train['default'].unique()"
      ]
    },
    {
      "cell_type": "code",
      "execution_count": null,
      "id": "818b98e9",
      "metadata": {
        "id": "818b98e9",
        "outputId": "9a4917a5-c231-4b06-d1c4-5143b3216d0c"
      },
      "outputs": [
        {
          "data": {
            "text/plain": [
              "array(['yes', 'no'], dtype=object)"
            ]
          },
          "execution_count": 11,
          "metadata": {},
          "output_type": "execute_result"
        }
      ],
      "source": [
        "df_train['housing'].unique()"
      ]
    },
    {
      "cell_type": "code",
      "execution_count": null,
      "id": "2eb59b61",
      "metadata": {
        "id": "2eb59b61",
        "outputId": "55df5976-379a-48d3-b644-81429543562a"
      },
      "outputs": [
        {
          "data": {
            "text/plain": [
              "array(['yes', 'no'], dtype=object)"
            ]
          },
          "execution_count": 12,
          "metadata": {},
          "output_type": "execute_result"
        }
      ],
      "source": [
        "df_train['loan'].unique()"
      ]
    },
    {
      "cell_type": "code",
      "execution_count": null,
      "id": "76674f95",
      "metadata": {
        "id": "76674f95"
      },
      "outputs": [],
      "source": [
        "#df_train['contact'].unique()"
      ]
    },
    {
      "cell_type": "code",
      "execution_count": null,
      "id": "919a10b5",
      "metadata": {
        "id": "919a10b5",
        "outputId": "effa7953-8ee3-423c-c9b1-5b759456febe"
      },
      "outputs": [
        {
          "data": {
            "text/plain": [
              "array(['feb', 'apr', 'jun', 'sep', 'nov', 'jan', 'jul', 'dec', 'aug',\n",
              "       'may', 'mar', 'oct'], dtype=object)"
            ]
          },
          "execution_count": 14,
          "metadata": {},
          "output_type": "execute_result"
        }
      ],
      "source": [
        "df_train['month'].unique()"
      ]
    },
    {
      "cell_type": "code",
      "execution_count": null,
      "id": "a931925e",
      "metadata": {
        "id": "a931925e",
        "outputId": "a2a9d85c-2b43-4194-c400-5ac2b6031635"
      },
      "outputs": [
        {
          "data": {
            "text/plain": [
              "array(['failure', 'success', 'unknown'], dtype=object)"
            ]
          },
          "execution_count": 15,
          "metadata": {},
          "output_type": "execute_result"
        }
      ],
      "source": [
        "df_train['poutcome'].unique()"
      ]
    },
    {
      "cell_type": "code",
      "execution_count": null,
      "id": "c26b1329",
      "metadata": {
        "id": "c26b1329",
        "outputId": "dcc2ba55-756c-4657-ee6c-e9d0cd3e0ab9"
      },
      "outputs": [
        {
          "data": {
            "text/plain": [
              "array(['Millennials', 'Gen X', 'Younger Boomers', 'Older Boomers',\n",
              "       'Silent Generation'], dtype=object)"
            ]
          },
          "execution_count": 16,
          "metadata": {},
          "output_type": "execute_result"
        }
      ],
      "source": [
        "df_train['generation'].unique()"
      ]
    },
    {
      "cell_type": "code",
      "execution_count": null,
      "id": "5a6eea27",
      "metadata": {
        "id": "5a6eea27",
        "outputId": "bd3c1484-f550-492a-a04d-1e89849a3752"
      },
      "outputs": [
        {
          "data": {
            "text/plain": [
              "array(['MILLENNIALS', 'GEN X', 'YOUNGER BOOMERS', 'OLDER BOOMERS',\n",
              "       'SILENT GENERATION'], dtype=object)"
            ]
          },
          "execution_count": 17,
          "metadata": {},
          "output_type": "execute_result"
        }
      ],
      "source": [
        "#Converting to Upper case\n",
        "df_train['generation'] = df_train['generation'].str.upper()\n",
        "#Replacing the MILLENIALS to MILLENNIALS\n",
        "df_train['generation'] = df_train['generation'].str.replace('MILLENIALS', 'MILLENNIALS')\n",
        "#Replacing the OLER BOOMERS to OLDER BOOMERS\n",
        "df_train['generation'] = df_train['generation'].str.replace('OLER BOOMERS', 'OLDER BOOMERS')\n",
        "df_train[['generation']] = df_train[['generation']].fillna('UNKNOWN')\n",
        "df_train['generation'].unique()"
      ]
    },
    {
      "cell_type": "code",
      "execution_count": null,
      "id": "ec2ade25",
      "metadata": {
        "id": "ec2ade25",
        "outputId": "698fea04-b578-476e-b3d8-c77c9ffb5c43"
      },
      "outputs": [
        {
          "data": {
            "text/plain": [
              "array(['AS', 'IA', 'PA', 'RI', 'MA', 'TX', 'GA', 'MS', 'MN', 'WV', 'ME',\n",
              "       'WI', 'HI', 'SC', 'FL', 'MH', 'CO', 'NM', 'VI', 'AL', 'DE', 'FM',\n",
              "       'IN', 'LA', 'CA', 'NC', 'MD', 'ND', 'VT', 'ID', 'WA', 'MI', 'PW',\n",
              "       'AK', 'AR', 'MT', 'OH', 'NV', 'CT', 'KY', 'TN', 'MP', 'KS', 'VA',\n",
              "       'WY', 'NH', 'UT', 'NE', 'AZ', 'NY', 'OR', 'MO', 'GU', 'SD', 'IL',\n",
              "       'DC', 'OK', 'NJ', 'PR'], dtype=object)"
            ]
          },
          "execution_count": 18,
          "metadata": {},
          "output_type": "execute_result"
        }
      ],
      "source": [
        "df_train['state'].unique()"
      ]
    },
    {
      "cell_type": "code",
      "execution_count": null,
      "id": "c3b1eaf8",
      "metadata": {
        "id": "c3b1eaf8",
        "outputId": "a5aa9818-e025-4937-a137-6ad45aa45c2f"
      },
      "outputs": [
        {
          "name": "stdout",
          "output_type": "stream",
          "text": [
            "<class 'pandas.core.frame.DataFrame'>\n",
            "RangeIndex: 36871 entries, 0 to 36870\n",
            "Data columns (total 19 columns):\n",
            " #   Column      Non-Null Count  Dtype \n",
            "---  ------      --------------  ----- \n",
            " 0   day         36871 non-null  int64 \n",
            " 1   education   36871 non-null  object\n",
            " 2   job         36871 non-null  object\n",
            " 3   generation  36871 non-null  object\n",
            " 4   previous    36871 non-null  int64 \n",
            " 5   campaign    36871 non-null  int64 \n",
            " 6   marital     36871 non-null  object\n",
            " 7   age         36871 non-null  int64 \n",
            " 8   default     36871 non-null  object\n",
            " 9   balance     36871 non-null  int64 \n",
            " 10  housing     36871 non-null  object\n",
            " 11  loan        36871 non-null  object\n",
            " 12  month       36871 non-null  object\n",
            " 13  duration    36871 non-null  int64 \n",
            " 14  pdays       36871 non-null  int64 \n",
            " 15  poutcome    36871 non-null  object\n",
            " 16  state       36871 non-null  object\n",
            " 17  id          36871 non-null  int64 \n",
            " 18  cd          36871 non-null  int64 \n",
            "dtypes: int64(9), object(10)\n",
            "memory usage: 5.3+ MB\n"
          ]
        }
      ],
      "source": [
        "df_train.info()"
      ]
    },
    {
      "cell_type": "code",
      "execution_count": null,
      "id": "b3e03396",
      "metadata": {
        "id": "b3e03396",
        "outputId": "62914c7d-0f4e-43f8-e48b-1e5655f2d50d"
      },
      "outputs": [
        {
          "name": "stdout",
          "output_type": "stream",
          "text": [
            "False\n"
          ]
        }
      ],
      "source": [
        "#Checking for NaNs\n",
        "value = df_train.isnull().values.any()\n",
        "print(value)"
      ]
    },
    {
      "cell_type": "code",
      "execution_count": null,
      "id": "108a91b5",
      "metadata": {
        "id": "108a91b5",
        "outputId": "8595f4f2-9628-4797-9d6f-377b5a806a0e"
      },
      "outputs": [
        {
          "name": "stdout",
          "output_type": "stream",
          "text": [
            "0\n"
          ]
        }
      ],
      "source": [
        "print(df_train.isnull().values.ravel().sum())"
      ]
    },
    {
      "cell_type": "code",
      "execution_count": null,
      "id": "12d8c10d",
      "metadata": {
        "id": "12d8c10d"
      },
      "outputs": [],
      "source": [
        "df_train = df_train.dropna()"
      ]
    },
    {
      "cell_type": "code",
      "execution_count": null,
      "id": "cb664299",
      "metadata": {
        "id": "cb664299",
        "outputId": "9bee4de8-d550-4cd3-8019-c8631dfe3cfd"
      },
      "outputs": [
        {
          "name": "stdout",
          "output_type": "stream",
          "text": [
            "<class 'pandas.core.frame.DataFrame'>\n",
            "RangeIndex: 36871 entries, 0 to 36870\n",
            "Data columns (total 19 columns):\n",
            " #   Column      Non-Null Count  Dtype \n",
            "---  ------      --------------  ----- \n",
            " 0   day         36871 non-null  int64 \n",
            " 1   education   36871 non-null  object\n",
            " 2   job         36871 non-null  object\n",
            " 3   generation  36871 non-null  object\n",
            " 4   previous    36871 non-null  int64 \n",
            " 5   campaign    36871 non-null  int64 \n",
            " 6   marital     36871 non-null  object\n",
            " 7   age         36871 non-null  int64 \n",
            " 8   default     36871 non-null  object\n",
            " 9   balance     36871 non-null  int64 \n",
            " 10  housing     36871 non-null  object\n",
            " 11  loan        36871 non-null  object\n",
            " 12  month       36871 non-null  object\n",
            " 13  duration    36871 non-null  int64 \n",
            " 14  pdays       36871 non-null  int64 \n",
            " 15  poutcome    36871 non-null  object\n",
            " 16  state       36871 non-null  object\n",
            " 17  id          36871 non-null  int64 \n",
            " 18  cd          36871 non-null  int64 \n",
            "dtypes: int64(9), object(10)\n",
            "memory usage: 5.3+ MB\n"
          ]
        }
      ],
      "source": [
        "df_train.info()"
      ]
    },
    {
      "cell_type": "code",
      "execution_count": null,
      "id": "302b2e80",
      "metadata": {
        "id": "302b2e80",
        "outputId": "29e6df00-09a9-4d1d-f47a-0bf9cd28ab4e"
      },
      "outputs": [
        {
          "name": "stdout",
          "output_type": "stream",
          "text": [
            "False\n"
          ]
        }
      ],
      "source": [
        "#Checking for NaNs\n",
        "value = df_train.isnull().values.any()\n",
        "print(value)"
      ]
    },
    {
      "cell_type": "markdown",
      "id": "c4f461af",
      "metadata": {
        "id": "c4f461af"
      },
      "source": [
        "# Performing the same clean up on test dataset"
      ]
    },
    {
      "cell_type": "code",
      "execution_count": null,
      "id": "3ca0cae1",
      "metadata": {
        "id": "3ca0cae1",
        "outputId": "9585f612-a4b8-4d22-fa98-96112c51b773"
      },
      "outputs": [
        {
          "name": "stderr",
          "output_type": "stream",
          "text": [
            "C:\\Users\\pramo\\AppData\\Local\\Temp\\ipykernel_30120\\2901495469.py:4: FutureWarning: The default value of regex will change from True to False in a future version.\n",
            "  df_test['job'] = df_test['job'].str.replace('\\W', '')\n"
          ]
        },
        {
          "data": {
            "text/plain": [
              "array(['ENTREPRENEUR', 'MANAGEMENT', 'ADMIN', 'STUDENT', 'RETIRED',\n",
              "       'UNEMPLOYED', 'BLUECOLLAR', 'HOUSEMAID', 'UNKNOWN', 'SELFEMPLOYED',\n",
              "       'SERVICES', 'TECHNICIAN'], dtype=object)"
            ]
          },
          "execution_count": 25,
          "metadata": {},
          "output_type": "execute_result"
        }
      ],
      "source": [
        "#Converting to Upper case\n",
        "df_test['job'] = df_test['job'].str.upper()\n",
        "#removing all the special character\n",
        "df_test['job'] = df_test['job'].str.replace('\\W', '')\n",
        "#Replace NaNs to Unknown. Since Unknown is already a category\n",
        "df_test[['job']] = df_test[['job']].fillna('UNKNOWN')\n",
        "df_test['job'].unique()\n"
      ]
    },
    {
      "cell_type": "code",
      "execution_count": null,
      "id": "c2a161d7",
      "metadata": {
        "id": "c2a161d7",
        "outputId": "15cfdcc6-f2a1-4a70-9491-f5f5d0b21297"
      },
      "outputs": [
        {
          "data": {
            "text/plain": [
              "array(['MARRIED', 'SINGLE', 'DIVORCED', 'OTHER'], dtype=object)"
            ]
          },
          "execution_count": 26,
          "metadata": {},
          "output_type": "execute_result"
        }
      ],
      "source": [
        "df_test['marital'] = df_test['marital'].str.upper()\n",
        "df_test[['marital']] = df_test[['marital']].fillna('UNKNOWN')\n",
        "df_test['marital'].unique()\n"
      ]
    },
    {
      "cell_type": "code",
      "execution_count": null,
      "id": "df0992b1",
      "metadata": {
        "id": "df0992b1",
        "outputId": "98bc5a32-484c-4efa-e40f-f3959556da77"
      },
      "outputs": [
        {
          "data": {
            "text/plain": [
              "array(['TERTIARY', 'SECONDARY', 'PRIMARY'], dtype=object)"
            ]
          },
          "execution_count": 27,
          "metadata": {},
          "output_type": "execute_result"
        }
      ],
      "source": [
        "#Converting to Upper case\n",
        "df_test['education'] = df_test['education'].str.upper()\n",
        "#Replacing the PRIMERY to PRIMARY\n",
        "df_test['education'] = df_test['education'].str.replace('PRIMERY', 'PRIMARY')\n",
        "#Replacing the SECENDARY to SECONDARY\n",
        "df_test['education'] = df_test['education'].str.replace('SECENDARY', 'SECONDARY')\n",
        "df_test['education'].unique()"
      ]
    },
    {
      "cell_type": "code",
      "execution_count": null,
      "id": "f6124603",
      "metadata": {
        "id": "f6124603",
        "outputId": "b1c03c9e-fbbc-4bc1-8b47-812f9255187d"
      },
      "outputs": [
        {
          "data": {
            "text/plain": [
              "array(['GEN X', 'YOUNGER BOOMERS', 'OLDER BOOMERS', 'SILENT GENERATION',\n",
              "       'MILLENNIALS'], dtype=object)"
            ]
          },
          "execution_count": 28,
          "metadata": {},
          "output_type": "execute_result"
        }
      ],
      "source": [
        "#Converting to Upper case\n",
        "df_test['generation'] = df_test['generation'].str.upper()\n",
        "#Replacing the MILLENIALS to MILLENNIALS\n",
        "df_test['generation'] = df_test['generation'].str.replace('MILLENIALS', 'MILLENNIALS')\n",
        "#Replacing the OLER BOOMERS to OLDER BOOMERS\n",
        "df_test['generation'] = df_test['generation'].str.replace('OLER BOOMERS', 'OLDER BOOMERS')\n",
        "df_test[['generation']] = df_test[['generation']].fillna('UNKNOWN')\n",
        "df_test['generation'].unique()"
      ]
    },
    {
      "cell_type": "code",
      "execution_count": null,
      "id": "ec2db31f",
      "metadata": {
        "id": "ec2db31f",
        "outputId": "8aed29e2-258d-4a3b-defa-9e341b4a3dca"
      },
      "outputs": [
        {
          "name": "stdout",
          "output_type": "stream",
          "text": [
            "False\n"
          ]
        }
      ],
      "source": [
        "#Checking for NaNs\n",
        "value = df_test.isnull().values.any()\n",
        "print(value)"
      ]
    },
    {
      "cell_type": "code",
      "execution_count": null,
      "id": "68cbb328",
      "metadata": {
        "id": "68cbb328",
        "outputId": "e7bff338-5777-4342-bb35-0ba82014a9cf"
      },
      "outputs": [
        {
          "name": "stdout",
          "output_type": "stream",
          "text": [
            "0\n"
          ]
        }
      ],
      "source": [
        "print(df_test.isnull().values.ravel().sum())"
      ]
    },
    {
      "cell_type": "code",
      "execution_count": null,
      "id": "ba233be7",
      "metadata": {
        "id": "ba233be7"
      },
      "outputs": [],
      "source": [
        "df_test = df_test.dropna()"
      ]
    },
    {
      "cell_type": "code",
      "execution_count": null,
      "id": "d649243b",
      "metadata": {
        "id": "d649243b",
        "outputId": "5a4c7c5a-6205-4b2d-8c51-4bedc60700fa"
      },
      "outputs": [
        {
          "name": "stdout",
          "output_type": "stream",
          "text": [
            "False\n"
          ]
        }
      ],
      "source": [
        "#Checking for NaNs\n",
        "value = df_test.isnull().values.any()\n",
        "print(value)"
      ]
    },
    {
      "cell_type": "markdown",
      "id": "fe6a97d2",
      "metadata": {
        "id": "fe6a97d2"
      },
      "source": [
        "# Data Exploration"
      ]
    },
    {
      "cell_type": "code",
      "execution_count": null,
      "id": "1873841c",
      "metadata": {
        "id": "1873841c"
      },
      "outputs": [],
      "source": []
    },
    {
      "cell_type": "code",
      "execution_count": null,
      "id": "991a9627",
      "metadata": {
        "id": "991a9627"
      },
      "outputs": [],
      "source": []
    },
    {
      "cell_type": "markdown",
      "id": "e00f5814",
      "metadata": {
        "id": "e00f5814"
      },
      "source": [
        "# Create dummy variables"
      ]
    },
    {
      "cell_type": "code",
      "execution_count": null,
      "id": "0230c010",
      "metadata": {
        "id": "0230c010",
        "outputId": "b531f24d-2863-4abd-fb43-a2ae1eaca7ff"
      },
      "outputs": [
        {
          "name": "stdout",
          "output_type": "stream",
          "text": [
            "Index(['education', 'job', 'generation', 'marital', 'default', 'housing',\n",
            "       'loan', 'month', 'poutcome', 'state'],\n",
            "      dtype='object')\n"
          ]
        }
      ],
      "source": [
        "print(df_train.select_dtypes([\"object\"]).columns)"
      ]
    },
    {
      "cell_type": "code",
      "execution_count": null,
      "id": "23efb9e6",
      "metadata": {
        "id": "23efb9e6"
      },
      "outputs": [],
      "source": [
        "cat_vars=['job', 'marital', 'education', 'default', 'housing', 'loan',\n",
        "       'month', 'poutcome', 'generation', 'state']\n",
        "for var in cat_vars:\n",
        "    cat_list='var'+'_'+var\n",
        "    cat_list = pd.get_dummies(df_train[var], prefix=var)\n",
        "    data1=df_train.join(cat_list)\n",
        "    df_train=data1\n",
        "cat_vars=['job', 'marital', 'education', 'default', 'housing', 'loan',\n",
        "       'month', 'poutcome', 'generation', 'state']\n",
        "data_vars=df_train.columns.values.tolist()\n",
        "to_keep=[i for i in data_vars if i not in cat_vars]"
      ]
    },
    {
      "cell_type": "code",
      "execution_count": null,
      "id": "610fec7b",
      "metadata": {
        "id": "610fec7b",
        "outputId": "3daea06c-a1af-4b20-fba4-da2e955f486c"
      },
      "outputs": [
        {
          "data": {
            "text/plain": [
              "array(['day', 'previous', 'campaign', 'age', 'balance', 'duration',\n",
              "       'pdays', 'id', 'cd', 'job_ADMIN', 'job_BLUECOLLAR',\n",
              "       'job_ENTREPRENEUR', 'job_HOUSEMAID', 'job_MANAGEMENT',\n",
              "       'job_RETIRED', 'job_SELFEMPLOYED', 'job_SERVICES', 'job_STUDENT',\n",
              "       'job_TECHNICIAN', 'job_UNEMPLOYED', 'job_UNKNOWN',\n",
              "       'marital_DIVORCED', 'marital_MARRIED', 'marital_OTHER',\n",
              "       'marital_SINGLE', 'education_PRIMARY', 'education_SECONDARY',\n",
              "       'education_TERTIARY', 'default_no', 'default_yes', 'housing_no',\n",
              "       'housing_yes', 'loan_no', 'loan_yes', 'month_apr', 'month_aug',\n",
              "       'month_dec', 'month_feb', 'month_jan', 'month_jul', 'month_jun',\n",
              "       'month_mar', 'month_may', 'month_nov', 'month_oct', 'month_sep',\n",
              "       'poutcome_failure', 'poutcome_success', 'poutcome_unknown',\n",
              "       'generation_GEN X', 'generation_MILLENNIALS',\n",
              "       'generation_OLDER BOOMERS', 'generation_SILENT GENERATION',\n",
              "       'generation_YOUNGER BOOMERS', 'state_AK', 'state_AL', 'state_AR',\n",
              "       'state_AS', 'state_AZ', 'state_CA', 'state_CO', 'state_CT',\n",
              "       'state_DC', 'state_DE', 'state_FL', 'state_FM', 'state_GA',\n",
              "       'state_GU', 'state_HI', 'state_IA', 'state_ID', 'state_IL',\n",
              "       'state_IN', 'state_KS', 'state_KY', 'state_LA', 'state_MA',\n",
              "       'state_MD', 'state_ME', 'state_MH', 'state_MI', 'state_MN',\n",
              "       'state_MO', 'state_MP', 'state_MS', 'state_MT', 'state_NC',\n",
              "       'state_ND', 'state_NE', 'state_NH', 'state_NJ', 'state_NM',\n",
              "       'state_NV', 'state_NY', 'state_OH', 'state_OK', 'state_OR',\n",
              "       'state_PA', 'state_PR', 'state_PW', 'state_RI', 'state_SC',\n",
              "       'state_SD', 'state_TN', 'state_TX', 'state_UT', 'state_VA',\n",
              "       'state_VI', 'state_VT', 'state_WA', 'state_WI', 'state_WV',\n",
              "       'state_WY'], dtype=object)"
            ]
          },
          "execution_count": 35,
          "metadata": {},
          "output_type": "execute_result"
        }
      ],
      "source": [
        "df_train=df_train[to_keep]\n",
        "df_train.columns.values"
      ]
    },
    {
      "cell_type": "code",
      "execution_count": null,
      "id": "ea685931",
      "metadata": {
        "id": "ea685931",
        "outputId": "2313b99b-1ab6-4b6c-bf5a-95ca71ea286d"
      },
      "outputs": [
        {
          "data": {
            "text/html": [
              "<div>\n",
              "<style scoped>\n",
              "    .dataframe tbody tr th:only-of-type {\n",
              "        vertical-align: middle;\n",
              "    }\n",
              "\n",
              "    .dataframe tbody tr th {\n",
              "        vertical-align: top;\n",
              "    }\n",
              "\n",
              "    .dataframe thead th {\n",
              "        text-align: right;\n",
              "    }\n",
              "</style>\n",
              "<table border=\"1\" class=\"dataframe\">\n",
              "  <thead>\n",
              "    <tr style=\"text-align: right;\">\n",
              "      <th></th>\n",
              "      <th>day</th>\n",
              "      <th>previous</th>\n",
              "      <th>campaign</th>\n",
              "      <th>age</th>\n",
              "      <th>balance</th>\n",
              "      <th>duration</th>\n",
              "      <th>pdays</th>\n",
              "      <th>id</th>\n",
              "      <th>cd</th>\n",
              "      <th>job_ADMIN</th>\n",
              "      <th>...</th>\n",
              "      <th>state_TN</th>\n",
              "      <th>state_TX</th>\n",
              "      <th>state_UT</th>\n",
              "      <th>state_VA</th>\n",
              "      <th>state_VI</th>\n",
              "      <th>state_VT</th>\n",
              "      <th>state_WA</th>\n",
              "      <th>state_WI</th>\n",
              "      <th>state_WV</th>\n",
              "      <th>state_WY</th>\n",
              "    </tr>\n",
              "  </thead>\n",
              "  <tbody>\n",
              "    <tr>\n",
              "      <th>0</th>\n",
              "      <td>29</td>\n",
              "      <td>1</td>\n",
              "      <td>39</td>\n",
              "      <td>33</td>\n",
              "      <td>17068</td>\n",
              "      <td>3727</td>\n",
              "      <td>220</td>\n",
              "      <td>23192</td>\n",
              "      <td>1</td>\n",
              "      <td>0</td>\n",
              "      <td>...</td>\n",
              "      <td>0</td>\n",
              "      <td>0</td>\n",
              "      <td>0</td>\n",
              "      <td>0</td>\n",
              "      <td>0</td>\n",
              "      <td>0</td>\n",
              "      <td>0</td>\n",
              "      <td>0</td>\n",
              "      <td>0</td>\n",
              "      <td>0</td>\n",
              "    </tr>\n",
              "    <tr>\n",
              "      <th>1</th>\n",
              "      <td>29</td>\n",
              "      <td>6</td>\n",
              "      <td>6</td>\n",
              "      <td>29</td>\n",
              "      <td>999</td>\n",
              "      <td>4080</td>\n",
              "      <td>323</td>\n",
              "      <td>2011</td>\n",
              "      <td>0</td>\n",
              "      <td>0</td>\n",
              "      <td>...</td>\n",
              "      <td>0</td>\n",
              "      <td>0</td>\n",
              "      <td>0</td>\n",
              "      <td>0</td>\n",
              "      <td>0</td>\n",
              "      <td>0</td>\n",
              "      <td>0</td>\n",
              "      <td>0</td>\n",
              "      <td>0</td>\n",
              "      <td>0</td>\n",
              "    </tr>\n",
              "    <tr>\n",
              "      <th>2</th>\n",
              "      <td>29</td>\n",
              "      <td>15</td>\n",
              "      <td>38</td>\n",
              "      <td>39</td>\n",
              "      <td>4896</td>\n",
              "      <td>172</td>\n",
              "      <td>115</td>\n",
              "      <td>14021</td>\n",
              "      <td>0</td>\n",
              "      <td>0</td>\n",
              "      <td>...</td>\n",
              "      <td>0</td>\n",
              "      <td>0</td>\n",
              "      <td>0</td>\n",
              "      <td>0</td>\n",
              "      <td>0</td>\n",
              "      <td>0</td>\n",
              "      <td>0</td>\n",
              "      <td>0</td>\n",
              "      <td>0</td>\n",
              "      <td>0</td>\n",
              "    </tr>\n",
              "  </tbody>\n",
              "</table>\n",
              "<p>3 rows × 113 columns</p>\n",
              "</div>"
            ],
            "text/plain": [
              "   day  previous  campaign  age  balance  duration  pdays     id  cd  \\\n",
              "0   29         1        39   33    17068      3727    220  23192   1   \n",
              "1   29         6         6   29      999      4080    323   2011   0   \n",
              "2   29        15        38   39     4896       172    115  14021   0   \n",
              "\n",
              "   job_ADMIN  ...  state_TN  state_TX  state_UT  state_VA  state_VI  state_VT  \\\n",
              "0          0  ...         0         0         0         0         0         0   \n",
              "1          0  ...         0         0         0         0         0         0   \n",
              "2          0  ...         0         0         0         0         0         0   \n",
              "\n",
              "   state_WA  state_WI  state_WV  state_WY  \n",
              "0         0         0         0         0  \n",
              "1         0         0         0         0  \n",
              "2         0         0         0         0  \n",
              "\n",
              "[3 rows x 113 columns]"
            ]
          },
          "execution_count": 36,
          "metadata": {},
          "output_type": "execute_result"
        }
      ],
      "source": [
        "df_train.head(3)"
      ]
    },
    {
      "cell_type": "code",
      "execution_count": null,
      "id": "b2045825",
      "metadata": {
        "id": "b2045825"
      },
      "outputs": [],
      "source": [
        "df_train.to_csv(\"Cleaned_DataSet_Train.csv\")"
      ]
    },
    {
      "cell_type": "code",
      "execution_count": null,
      "id": "3a972c81",
      "metadata": {
        "id": "3a972c81"
      },
      "outputs": [],
      "source": [
        "cat_vars=['job', 'marital', 'education', 'default', 'housing', 'loan',\n",
        "       'month', 'poutcome', 'generation', 'state']\n",
        "for var in cat_vars:\n",
        "    cat_list='var'+'_'+var\n",
        "    cat_list = pd.get_dummies(df_test[var], prefix=var)\n",
        "    data1=df_test.join(cat_list)\n",
        "    df_test=data1\n",
        "cat_vars=['job', 'marital', 'education', 'default', 'housing', 'loan',\n",
        "       'month', 'poutcome', 'generation', 'state']\n",
        "data_vars=df_test.columns.values.tolist()\n",
        "to_keep=[i for i in data_vars if i not in cat_vars]"
      ]
    },
    {
      "cell_type": "code",
      "execution_count": null,
      "id": "072993bb",
      "metadata": {
        "id": "072993bb",
        "outputId": "59eb605a-2eb1-4168-e135-deac95c38b29"
      },
      "outputs": [
        {
          "data": {
            "text/plain": [
              "array(['day', 'previous', 'campaign', 'age', 'balance', 'duration',\n",
              "       'pdays', 'id', 'job_ADMIN', 'job_BLUECOLLAR', 'job_ENTREPRENEUR',\n",
              "       'job_HOUSEMAID', 'job_MANAGEMENT', 'job_RETIRED',\n",
              "       'job_SELFEMPLOYED', 'job_SERVICES', 'job_STUDENT',\n",
              "       'job_TECHNICIAN', 'job_UNEMPLOYED', 'job_UNKNOWN',\n",
              "       'marital_DIVORCED', 'marital_MARRIED', 'marital_OTHER',\n",
              "       'marital_SINGLE', 'education_PRIMARY', 'education_SECONDARY',\n",
              "       'education_TERTIARY', 'default_no', 'default_yes', 'housing_no',\n",
              "       'housing_yes', 'loan_no', 'loan_yes', 'month_apr', 'month_aug',\n",
              "       'month_dec', 'month_feb', 'month_jan', 'month_jul', 'month_jun',\n",
              "       'month_mar', 'month_may', 'month_nov', 'month_oct', 'month_sep',\n",
              "       'poutcome_failure', 'poutcome_other', 'poutcome_success',\n",
              "       'poutcome_unknown', 'generation_GEN X', 'generation_MILLENNIALS',\n",
              "       'generation_OLDER BOOMERS', 'generation_SILENT GENERATION',\n",
              "       'generation_YOUNGER BOOMERS', 'state_AK', 'state_AL', 'state_AR',\n",
              "       'state_AS', 'state_AZ', 'state_CA', 'state_CO', 'state_CT',\n",
              "       'state_DC', 'state_DE', 'state_FL', 'state_FM', 'state_GA',\n",
              "       'state_GU', 'state_HI', 'state_IA', 'state_ID', 'state_IL',\n",
              "       'state_IN', 'state_KS', 'state_KY', 'state_LA', 'state_MA',\n",
              "       'state_MD', 'state_ME', 'state_MH', 'state_MI', 'state_MN',\n",
              "       'state_MO', 'state_MP', 'state_MS', 'state_MT', 'state_NC',\n",
              "       'state_ND', 'state_NE', 'state_NH', 'state_NJ', 'state_NM',\n",
              "       'state_NV', 'state_NY', 'state_OH', 'state_OK', 'state_OR',\n",
              "       'state_PA', 'state_PR', 'state_PW', 'state_RI', 'state_SC',\n",
              "       'state_SD', 'state_TN', 'state_TX', 'state_UT', 'state_VA',\n",
              "       'state_VI', 'state_VT', 'state_WA', 'state_WI', 'state_WV',\n",
              "       'state_WY'], dtype=object)"
            ]
          },
          "execution_count": 39,
          "metadata": {},
          "output_type": "execute_result"
        }
      ],
      "source": [
        "df_test=df_test[to_keep]\n",
        "df_test.columns.values"
      ]
    },
    {
      "cell_type": "code",
      "execution_count": null,
      "id": "a89c1770",
      "metadata": {
        "id": "a89c1770",
        "outputId": "c2b11cec-434b-4226-cbf0-75427a436c97"
      },
      "outputs": [
        {
          "data": {
            "text/html": [
              "<div>\n",
              "<style scoped>\n",
              "    .dataframe tbody tr th:only-of-type {\n",
              "        vertical-align: middle;\n",
              "    }\n",
              "\n",
              "    .dataframe tbody tr th {\n",
              "        vertical-align: top;\n",
              "    }\n",
              "\n",
              "    .dataframe thead th {\n",
              "        text-align: right;\n",
              "    }\n",
              "</style>\n",
              "<table border=\"1\" class=\"dataframe\">\n",
              "  <thead>\n",
              "    <tr style=\"text-align: right;\">\n",
              "      <th></th>\n",
              "      <th>day</th>\n",
              "      <th>previous</th>\n",
              "      <th>campaign</th>\n",
              "      <th>age</th>\n",
              "      <th>balance</th>\n",
              "      <th>duration</th>\n",
              "      <th>pdays</th>\n",
              "      <th>id</th>\n",
              "      <th>cd</th>\n",
              "      <th>job_ADMIN</th>\n",
              "      <th>...</th>\n",
              "      <th>state_TN</th>\n",
              "      <th>state_TX</th>\n",
              "      <th>state_UT</th>\n",
              "      <th>state_VA</th>\n",
              "      <th>state_VI</th>\n",
              "      <th>state_VT</th>\n",
              "      <th>state_WA</th>\n",
              "      <th>state_WI</th>\n",
              "      <th>state_WV</th>\n",
              "      <th>state_WY</th>\n",
              "    </tr>\n",
              "  </thead>\n",
              "  <tbody>\n",
              "    <tr>\n",
              "      <th>0</th>\n",
              "      <td>29</td>\n",
              "      <td>1</td>\n",
              "      <td>39</td>\n",
              "      <td>33</td>\n",
              "      <td>17068</td>\n",
              "      <td>3727</td>\n",
              "      <td>220</td>\n",
              "      <td>23192</td>\n",
              "      <td>1</td>\n",
              "      <td>0</td>\n",
              "      <td>...</td>\n",
              "      <td>0</td>\n",
              "      <td>0</td>\n",
              "      <td>0</td>\n",
              "      <td>0</td>\n",
              "      <td>0</td>\n",
              "      <td>0</td>\n",
              "      <td>0</td>\n",
              "      <td>0</td>\n",
              "      <td>0</td>\n",
              "      <td>0</td>\n",
              "    </tr>\n",
              "    <tr>\n",
              "      <th>1</th>\n",
              "      <td>29</td>\n",
              "      <td>6</td>\n",
              "      <td>6</td>\n",
              "      <td>29</td>\n",
              "      <td>999</td>\n",
              "      <td>4080</td>\n",
              "      <td>323</td>\n",
              "      <td>2011</td>\n",
              "      <td>0</td>\n",
              "      <td>0</td>\n",
              "      <td>...</td>\n",
              "      <td>0</td>\n",
              "      <td>0</td>\n",
              "      <td>0</td>\n",
              "      <td>0</td>\n",
              "      <td>0</td>\n",
              "      <td>0</td>\n",
              "      <td>0</td>\n",
              "      <td>0</td>\n",
              "      <td>0</td>\n",
              "      <td>0</td>\n",
              "    </tr>\n",
              "    <tr>\n",
              "      <th>2</th>\n",
              "      <td>29</td>\n",
              "      <td>15</td>\n",
              "      <td>38</td>\n",
              "      <td>39</td>\n",
              "      <td>4896</td>\n",
              "      <td>172</td>\n",
              "      <td>115</td>\n",
              "      <td>14021</td>\n",
              "      <td>0</td>\n",
              "      <td>0</td>\n",
              "      <td>...</td>\n",
              "      <td>0</td>\n",
              "      <td>0</td>\n",
              "      <td>0</td>\n",
              "      <td>0</td>\n",
              "      <td>0</td>\n",
              "      <td>0</td>\n",
              "      <td>0</td>\n",
              "      <td>0</td>\n",
              "      <td>0</td>\n",
              "      <td>0</td>\n",
              "    </tr>\n",
              "  </tbody>\n",
              "</table>\n",
              "<p>3 rows × 113 columns</p>\n",
              "</div>"
            ],
            "text/plain": [
              "   day  previous  campaign  age  balance  duration  pdays     id  cd  \\\n",
              "0   29         1        39   33    17068      3727    220  23192   1   \n",
              "1   29         6         6   29      999      4080    323   2011   0   \n",
              "2   29        15        38   39     4896       172    115  14021   0   \n",
              "\n",
              "   job_ADMIN  ...  state_TN  state_TX  state_UT  state_VA  state_VI  state_VT  \\\n",
              "0          0  ...         0         0         0         0         0         0   \n",
              "1          0  ...         0         0         0         0         0         0   \n",
              "2          0  ...         0         0         0         0         0         0   \n",
              "\n",
              "   state_WA  state_WI  state_WV  state_WY  \n",
              "0         0         0         0         0  \n",
              "1         0         0         0         0  \n",
              "2         0         0         0         0  \n",
              "\n",
              "[3 rows x 113 columns]"
            ]
          },
          "execution_count": 40,
          "metadata": {},
          "output_type": "execute_result"
        }
      ],
      "source": [
        "df_train.head(3)"
      ]
    },
    {
      "cell_type": "markdown",
      "id": "3fac25c2",
      "metadata": {
        "id": "3fac25c2"
      },
      "source": [
        "# Logistic Regression"
      ]
    },
    {
      "cell_type": "code",
      "execution_count": null,
      "id": "6ab02224",
      "metadata": {
        "id": "6ab02224",
        "outputId": "183f9e88-f722-40de-fc3c-a2b0c8fac8ca"
      },
      "outputs": [
        {
          "name": "stdout",
          "output_type": "stream",
          "text": [
            "<class 'pandas.core.frame.DataFrame'>\n",
            "RangeIndex: 36871 entries, 0 to 36870\n",
            "Columns: 113 entries, day to state_WY\n",
            "dtypes: int64(9), uint8(104)\n",
            "memory usage: 6.2 MB\n"
          ]
        }
      ],
      "source": [
        "df_train.info()"
      ]
    },
    {
      "cell_type": "code",
      "execution_count": null,
      "id": "6b6ca079",
      "metadata": {
        "id": "6b6ca079"
      },
      "outputs": [],
      "source": [
        "cols=['day', 'previous', 'campaign', 'age', 'balance', 'duration',\n",
        "       'pdays', 'id', 'job_ADMIN', 'job_BLUECOLLAR',\n",
        "       'job_ENTREPRENEUR', 'job_HOUSEMAID', 'job_MANAGEMENT',\n",
        "       'job_RETIRED', 'job_SELFEMPLOYED', 'job_SERVICES', 'job_STUDENT',\n",
        "       'job_TECHNICIAN', 'job_UNEMPLOYED', 'job_UNKNOWN',\n",
        "       'marital_DIVORCED', 'marital_MARRIED', 'marital_OTHER',\n",
        "       'marital_SINGLE', 'education_PRIMARY', 'education_SECONDARY',\n",
        "       'education_TERTIARY', 'default_no', 'default_yes', 'housing_no',\n",
        "       'housing_yes', 'loan_no', 'loan_yes', 'month_apr', 'month_aug',\n",
        "       'month_dec', 'month_feb', 'month_jan', 'month_jul', 'month_jun',\n",
        "       'month_mar', 'month_may', 'month_nov', 'month_oct', 'month_sep',\n",
        "       'poutcome_failure', 'poutcome_success', 'poutcome_unknown',\n",
        "       'generation_GEN X', 'generation_MILLENNIALS',\n",
        "       'generation_OLDER BOOMERS', 'generation_SILENT GENERATION',\n",
        "       'generation_YOUNGER BOOMERS', 'state_AK', 'state_AL', 'state_AR',\n",
        "       'state_AS', 'state_AZ', 'state_CA', 'state_CO', 'state_CT',\n",
        "       'state_DC', 'state_DE', 'state_FL', 'state_FM', 'state_GA',\n",
        "       'state_GU', 'state_HI', 'state_IA', 'state_ID', 'state_IL',\n",
        "       'state_IN', 'state_KS', 'state_KY', 'state_LA', 'state_MA',\n",
        "       'state_MD', 'state_ME', 'state_MH', 'state_MI', 'state_MN',\n",
        "       'state_MO', 'state_MP', 'state_MS', 'state_MT', 'state_NC',\n",
        "       'state_ND', 'state_NE', 'state_NH', 'state_NJ', 'state_NM',\n",
        "       'state_NV', 'state_NY', 'state_OH', 'state_OK', 'state_OR',\n",
        "       'state_PA', 'state_PR', 'state_PW', 'state_RI', 'state_SC',\n",
        "       'state_SD', 'state_TN', 'state_TX', 'state_UT', 'state_VA',\n",
        "       'state_VI', 'state_VT', 'state_WA', 'state_WI', 'state_WV',\n",
        "       'state_WY']\n",
        "X=df_train[cols]\n",
        "y=df_train['cd']\n"
      ]
    },
    {
      "cell_type": "code",
      "execution_count": null,
      "id": "d4314c9b",
      "metadata": {
        "id": "d4314c9b",
        "outputId": "d5f2418b-a636-4442-c89b-135c7a78f94e"
      },
      "outputs": [
        {
          "name": "stdout",
          "output_type": "stream",
          "text": [
            "Defaulting to user installation because normal site-packages is not writeable\n",
            "Requirement already satisfied: scikit-learn in c:\\users\\pramo\\appdata\\roaming\\python\\python39\\site-packages (1.3.1)\n",
            "Requirement already satisfied: threadpoolctl>=2.0.0 in c:\\programdata\\anaconda3\\lib\\site-packages (from scikit-learn) (2.2.0)\n",
            "Requirement already satisfied: joblib>=1.1.1 in c:\\users\\pramo\\appdata\\roaming\\python\\python39\\site-packages (from scikit-learn) (1.3.2)\n",
            "Requirement already satisfied: numpy<2.0,>=1.17.3 in c:\\programdata\\anaconda3\\lib\\site-packages (from scikit-learn) (1.21.5)\n",
            "Requirement already satisfied: scipy>=1.5.0 in c:\\programdata\\anaconda3\\lib\\site-packages (from scikit-learn) (1.9.1)\n"
          ]
        }
      ],
      "source": [
        "!pip install scikit-learn"
      ]
    },
    {
      "cell_type": "code",
      "execution_count": null,
      "id": "1ff83730",
      "metadata": {
        "id": "1ff83730",
        "outputId": "1a9d3e5c-e11b-47f6-fc89-eecdc90d60d1"
      },
      "outputs": [
        {
          "data": {
            "text/html": [
              "<style>#sk-container-id-1 {color: black;}#sk-container-id-1 pre{padding: 0;}#sk-container-id-1 div.sk-toggleable {background-color: white;}#sk-container-id-1 label.sk-toggleable__label {cursor: pointer;display: block;width: 100%;margin-bottom: 0;padding: 0.3em;box-sizing: border-box;text-align: center;}#sk-container-id-1 label.sk-toggleable__label-arrow:before {content: \"▸\";float: left;margin-right: 0.25em;color: #696969;}#sk-container-id-1 label.sk-toggleable__label-arrow:hover:before {color: black;}#sk-container-id-1 div.sk-estimator:hover label.sk-toggleable__label-arrow:before {color: black;}#sk-container-id-1 div.sk-toggleable__content {max-height: 0;max-width: 0;overflow: hidden;text-align: left;background-color: #f0f8ff;}#sk-container-id-1 div.sk-toggleable__content pre {margin: 0.2em;color: black;border-radius: 0.25em;background-color: #f0f8ff;}#sk-container-id-1 input.sk-toggleable__control:checked~div.sk-toggleable__content {max-height: 200px;max-width: 100%;overflow: auto;}#sk-container-id-1 input.sk-toggleable__control:checked~label.sk-toggleable__label-arrow:before {content: \"▾\";}#sk-container-id-1 div.sk-estimator input.sk-toggleable__control:checked~label.sk-toggleable__label {background-color: #d4ebff;}#sk-container-id-1 div.sk-label input.sk-toggleable__control:checked~label.sk-toggleable__label {background-color: #d4ebff;}#sk-container-id-1 input.sk-hidden--visually {border: 0;clip: rect(1px 1px 1px 1px);clip: rect(1px, 1px, 1px, 1px);height: 1px;margin: -1px;overflow: hidden;padding: 0;position: absolute;width: 1px;}#sk-container-id-1 div.sk-estimator {font-family: monospace;background-color: #f0f8ff;border: 1px dotted black;border-radius: 0.25em;box-sizing: border-box;margin-bottom: 0.5em;}#sk-container-id-1 div.sk-estimator:hover {background-color: #d4ebff;}#sk-container-id-1 div.sk-parallel-item::after {content: \"\";width: 100%;border-bottom: 1px solid gray;flex-grow: 1;}#sk-container-id-1 div.sk-label:hover label.sk-toggleable__label {background-color: #d4ebff;}#sk-container-id-1 div.sk-serial::before {content: \"\";position: absolute;border-left: 1px solid gray;box-sizing: border-box;top: 0;bottom: 0;left: 50%;z-index: 0;}#sk-container-id-1 div.sk-serial {display: flex;flex-direction: column;align-items: center;background-color: white;padding-right: 0.2em;padding-left: 0.2em;position: relative;}#sk-container-id-1 div.sk-item {position: relative;z-index: 1;}#sk-container-id-1 div.sk-parallel {display: flex;align-items: stretch;justify-content: center;background-color: white;position: relative;}#sk-container-id-1 div.sk-item::before, #sk-container-id-1 div.sk-parallel-item::before {content: \"\";position: absolute;border-left: 1px solid gray;box-sizing: border-box;top: 0;bottom: 0;left: 50%;z-index: -1;}#sk-container-id-1 div.sk-parallel-item {display: flex;flex-direction: column;z-index: 1;position: relative;background-color: white;}#sk-container-id-1 div.sk-parallel-item:first-child::after {align-self: flex-end;width: 50%;}#sk-container-id-1 div.sk-parallel-item:last-child::after {align-self: flex-start;width: 50%;}#sk-container-id-1 div.sk-parallel-item:only-child::after {width: 0;}#sk-container-id-1 div.sk-dashed-wrapped {border: 1px dashed gray;margin: 0 0.4em 0.5em 0.4em;box-sizing: border-box;padding-bottom: 0.4em;background-color: white;}#sk-container-id-1 div.sk-label label {font-family: monospace;font-weight: bold;display: inline-block;line-height: 1.2em;}#sk-container-id-1 div.sk-label-container {text-align: center;}#sk-container-id-1 div.sk-container {/* jupyter's `normalize.less` sets `[hidden] { display: none; }` but bootstrap.min.css set `[hidden] { display: none !important; }` so we also need the `!important` here to be able to override the default hidden behavior on the sphinx rendered scikit-learn.org. See: https://github.com/scikit-learn/scikit-learn/issues/21755 */display: inline-block !important;position: relative;}#sk-container-id-1 div.sk-text-repr-fallback {display: none;}</style><div id=\"sk-container-id-1\" class=\"sk-top-container\"><div class=\"sk-text-repr-fallback\"><pre>LogisticRegression()</pre><b>In a Jupyter environment, please rerun this cell to show the HTML representation or trust the notebook. <br />On GitHub, the HTML representation is unable to render, please try loading this page with nbviewer.org.</b></div><div class=\"sk-container\" hidden><div class=\"sk-item\"><div class=\"sk-estimator sk-toggleable\"><input class=\"sk-toggleable__control sk-hidden--visually\" id=\"sk-estimator-id-1\" type=\"checkbox\" checked><label for=\"sk-estimator-id-1\" class=\"sk-toggleable__label sk-toggleable__label-arrow\">LogisticRegression</label><div class=\"sk-toggleable__content\"><pre>LogisticRegression()</pre></div></div></div></div></div>"
            ],
            "text/plain": [
              "LogisticRegression()"
            ]
          },
          "execution_count": 44,
          "metadata": {},
          "output_type": "execute_result"
        }
      ],
      "source": [
        "from sklearn.linear_model import LogisticRegression\n",
        "from sklearn import metrics\n",
        "from sklearn.model_selection  import train_test_split\n",
        "from sklearn.preprocessing import StandardScaler\n",
        "sc = StandardScaler()\n",
        "X_train, X_test, y_train, y_test = train_test_split(X, y, test_size=0.3, random_state=0)\n",
        "\n",
        "X_train = sc.fit_transform(X_train)\n",
        "X_test = sc.transform(X_test)\n",
        "\n",
        "logreg = LogisticRegression()\n",
        "logreg.fit(X_train, y_train)"
      ]
    },
    {
      "cell_type": "code",
      "execution_count": null,
      "id": "8a82bf8f",
      "metadata": {
        "id": "8a82bf8f",
        "outputId": "24cca243-6878-48c0-b045-58600a533970"
      },
      "outputs": [
        {
          "name": "stdout",
          "output_type": "stream",
          "text": [
            "Accuracy of logistic regression classifier on train set: 0.83\n",
            "Accuracy of logistic regression classifier on test set: 0.83\n"
          ]
        }
      ],
      "source": [
        "y_pred = logreg.predict(X_test)\n",
        "print('Accuracy of logistic regression classifier on train set: {:.2f}'.format(logreg.score(X_train, y_train)))\n",
        "print('Accuracy of logistic regression classifier on test set: {:.2f}'.format(logreg.score(X_test, y_test)))"
      ]
    },
    {
      "cell_type": "code",
      "execution_count": null,
      "id": "0d706e72",
      "metadata": {
        "id": "0d706e72",
        "outputId": "eaabffcf-b357-4898-cac3-10819a9919ae"
      },
      "outputs": [
        {
          "name": "stdout",
          "output_type": "stream",
          "text": [
            "[[7676  759]\n",
            " [1104 1523]]\n"
          ]
        }
      ],
      "source": [
        "from sklearn.metrics import confusion_matrix\n",
        "confusion_matrix = confusion_matrix(y_test, y_pred)\n",
        "print(confusion_matrix)"
      ]
    },
    {
      "cell_type": "code",
      "execution_count": null,
      "id": "8b8ebdc8",
      "metadata": {
        "id": "8b8ebdc8",
        "outputId": "d0a6c800-6deb-4052-c827-832a648f3ac6"
      },
      "outputs": [
        {
          "name": "stdout",
          "output_type": "stream",
          "text": [
            "              precision    recall  f1-score   support\n",
            "\n",
            "           0       0.87      0.91      0.89      8435\n",
            "           1       0.67      0.58      0.62      2627\n",
            "\n",
            "    accuracy                           0.83     11062\n",
            "   macro avg       0.77      0.74      0.76     11062\n",
            "weighted avg       0.83      0.83      0.83     11062\n",
            "\n"
          ]
        }
      ],
      "source": [
        "from sklearn.metrics import classification_report\n",
        "print(classification_report(y_test, y_pred))"
      ]
    },
    {
      "cell_type": "code",
      "execution_count": null,
      "id": "9a6cf513",
      "metadata": {
        "id": "9a6cf513",
        "outputId": "a9e2c9c0-79c7-498e-f238-f2e795644b2d"
      },
      "outputs": [
        {
          "name": "stdout",
          "output_type": "stream",
          "text": [
            "Accuracy: 0.8316\n",
            "Precision: 0.6674\n",
            "Recall: 0.5797\n"
          ]
        }
      ],
      "source": [
        "# Calculate accuracy, precision, and recall\n",
        "accuracy = accuracy_score(y_test, y_pred)\n",
        "precision = precision_score(y_test, y_pred)\n",
        "recall = recall_score(y_test, y_pred)\n",
        "\n",
        "# Print the results\n",
        "print(f'Accuracy: {accuracy:.4f}')\n",
        "print(f'Precision: {precision:.4f}')\n",
        "print(f'Recall: {recall:.4f}')"
      ]
    },
    {
      "cell_type": "code",
      "execution_count": null,
      "id": "e6b6e4f0",
      "metadata": {
        "id": "e6b6e4f0",
        "outputId": "b3275493-52e9-47f1-d0a9-f2b59c64aaee"
      },
      "outputs": [
        {
          "data": {
            "image/png": "[encoded data removed]",
            "text/plain": [
              "<Figure size 640x480 with 1 Axes>"
            ]
          },
          "metadata": {},
          "output_type": "display_data"
        }
      ],
      "source": [
        "from sklearn.metrics import roc_auc_score\n",
        "from sklearn.metrics import roc_curve\n",
        "import matplotlib.pyplot as plt\n",
        "\n",
        "logit_roc_auc = roc_auc_score(y_test, logreg.predict(X_test))\n",
        "fpr, tpr, thresholds = roc_curve(y_test, logreg.predict_proba(X_test)[:,1])\n",
        "plt.figure()\n",
        "plt.plot(fpr, tpr, label='Logistic Regression (area = %0.2f)' % logit_roc_auc)\n",
        "plt.plot([0, 1], [0, 1],'r--')\n",
        "plt.xlim([0.0, 1.0])\n",
        "plt.ylim([0.0, 1.05])\n",
        "plt.xlabel('False Positive Rate')\n",
        "plt.ylabel('True Positive Rate')\n",
        "plt.title('Receiver operating characteristic')\n",
        "plt.legend(loc=\"lower right\")\n",
        "plt.savefig('Log_ROC')\n",
        "plt.show()"
      ]
    },
    {
      "cell_type": "code",
      "execution_count": null,
      "id": "1bb81ea8",
      "metadata": {
        "id": "1bb81ea8",
        "outputId": "ec76f001-fedb-4c12-815d-1c707cce7285"
      },
      "outputs": [
        {
          "name": "stderr",
          "output_type": "stream",
          "text": [
            "C:\\Users\\pramo\\AppData\\Roaming\\Python\\Python39\\site-packages\\sklearn\\base.py:458: UserWarning: X has feature names, but LogisticRegression was fitted without feature names\n",
            "  warnings.warn(\n"
          ]
        }
      ],
      "source": [
        "test_data = df_test[cols]\n",
        "\n",
        "predictedData = logreg.predict(test_data)"
      ]
    },
    {
      "cell_type": "code",
      "execution_count": null,
      "id": "0246f32d",
      "metadata": {
        "id": "0246f32d"
      },
      "outputs": [],
      "source": [
        "results = pd.DataFrame(predictedData, columns=['cd'])\n",
        "results_final = pd.concat([df_test, results], axis=1)\n",
        "results_final = results_final[['id','cd']]"
      ]
    },
    {
      "cell_type": "code",
      "execution_count": null,
      "id": "79832ae6",
      "metadata": {
        "id": "79832ae6"
      },
      "outputs": [],
      "source": [
        "results_final.to_csv(\"PredictedData.csv\", index=False)"
      ]
    },
    {
      "cell_type": "markdown",
      "id": "64282da8",
      "metadata": {
        "id": "64282da8"
      },
      "source": [
        "# Decision Tree"
      ]
    },
    {
      "cell_type": "code",
      "execution_count": null,
      "id": "3d1b75aa",
      "metadata": {
        "id": "3d1b75aa"
      },
      "outputs": [],
      "source": [
        "# Load libraries\n",
        "import pandas as pd\n",
        "from sklearn.tree import DecisionTreeClassifier # Import Decision Tree Classifier\n",
        "from sklearn.model_selection import train_test_split # Import train_test_split function\n",
        "from sklearn import metrics #Import scikit-learn metrics module for accuracy calculation"
      ]
    },
    {
      "cell_type": "code",
      "execution_count": null,
      "id": "828bf0a3",
      "metadata": {
        "id": "828bf0a3"
      },
      "outputs": [],
      "source": [
        "clf = DecisionTreeClassifier()\n",
        "\n",
        "# Train Decision Tree Classifer\n",
        "clf = clf.fit(X_train,y_train)\n",
        "\n",
        "#Predict the response for test dataset\n",
        "y_pred = clf.predict(X_test)"
      ]
    },
    {
      "cell_type": "code",
      "execution_count": null,
      "id": "89b8d1cc",
      "metadata": {
        "id": "89b8d1cc",
        "outputId": "04890077-8b3e-433a-bc71-4acfabd20823"
      },
      "outputs": [
        {
          "name": "stdout",
          "output_type": "stream",
          "text": [
            "Accuracy: 0.7978\n",
            "Precision: 0.5755\n",
            "Recall: 0.5660\n"
          ]
        }
      ],
      "source": [
        "accuracy = accuracy_score(y_test, y_pred)\n",
        "precision = precision_score(y_test, y_pred)\n",
        "recall = recall_score(y_test, y_pred)\n",
        "\n",
        "print(f'Accuracy: {accuracy:.4f}')\n",
        "print(f'Precision: {precision:.4f}')\n",
        "print(f'Recall: {recall:.4f}')"
      ]
    },
    {
      "cell_type": "code",
      "execution_count": null,
      "id": "9ac8aec2",
      "metadata": {
        "id": "9ac8aec2",
        "outputId": "9e434dcf-3dac-4b4e-8294-b04e582a3f5d"
      },
      "outputs": [
        {
          "data": {
            "text/plain": [
              "'\\n!pip install graphviz\\n!pip install pydotplus\\n!pip install --upgrade scikit-learn\\n!pip install graphviz\\n'"
            ]
          },
          "execution_count": 56,
          "metadata": {},
          "output_type": "execute_result"
        }
      ],
      "source": [
        "\"\"\"\n",
        "!pip install graphviz\n",
        "!pip install pydotplus\n",
        "!pip install --upgrade scikit-learn\n",
        "!pip install graphviz\n",
        "\"\"\""
      ]
    },
    {
      "cell_type": "code",
      "execution_count": null,
      "id": "b1d510e8",
      "metadata": {
        "id": "b1d510e8",
        "outputId": "31216a49-175d-4260-f18d-74cfe46c87a9"
      },
      "outputs": [
        {
          "data": {
            "text/plain": [
              "\"\\nfrom sklearn.tree import export_graphviz\\nfrom sklearn.externals.six import StringIO  \\nfrom IPython.display import Image  \\nimport pydotplus\\nfrom io import StringIO\\nimport graphviz\\n\\nimport six\\nimport sys\\nsys.modules['sklearn.externals.six'] = six\\n\\ndot_data = StringIO()\\nexport_graphviz(clf, out_file=dot_data,  \\n                filled=True, rounded=True,\\n                special_characters=True,feature_names = cols,class_names=['0','1'])\\ngraph = pydotplus.graph_from_dot_data(dot_data.getvalue())  \\n#graph.write_png('cd.png')\\n#Image(graph.create_png())\\n\""
            ]
          },
          "execution_count": 57,
          "metadata": {},
          "output_type": "execute_result"
        }
      ],
      "source": [
        "\"\"\"\n",
        "from sklearn.tree import export_graphviz\n",
        "from sklearn.externals.six import StringIO\n",
        "from IPython.display import Image\n",
        "import pydotplus\n",
        "from io import StringIO\n",
        "import graphviz\n",
        "\n",
        "import six\n",
        "import sys\n",
        "sys.modules['sklearn.externals.six'] = six\n",
        "\n",
        "dot_data = StringIO()\n",
        "export_graphviz(clf, out_file=dot_data,\n",
        "                filled=True, rounded=True,\n",
        "                special_characters=True,feature_names = cols,class_names=['0','1'])\n",
        "graph = pydotplus.graph_from_dot_data(dot_data.getvalue())\n",
        "#graph.write_png('cd.png')\n",
        "#Image(graph.create_png())\n",
        "\"\"\""
      ]
    },
    {
      "cell_type": "markdown",
      "id": "2f44c3f8",
      "metadata": {
        "id": "2f44c3f8"
      },
      "source": [
        "# KNN"
      ]
    },
    {
      "cell_type": "code",
      "execution_count": null,
      "id": "db578d33",
      "metadata": {
        "id": "db578d33",
        "outputId": "02be4598-c726-4a47-9a24-b429a46be406"
      },
      "outputs": [
        {
          "data": {
            "text/html": [
              "<style>#sk-container-id-2 {color: black;}#sk-container-id-2 pre{padding: 0;}#sk-container-id-2 div.sk-toggleable {background-color: white;}#sk-container-id-2 label.sk-toggleable__label {cursor: pointer;display: block;width: 100%;margin-bottom: 0;padding: 0.3em;box-sizing: border-box;text-align: center;}#sk-container-id-2 label.sk-toggleable__label-arrow:before {content: \"▸\";float: left;margin-right: 0.25em;color: #696969;}#sk-container-id-2 label.sk-toggleable__label-arrow:hover:before {color: black;}#sk-container-id-2 div.sk-estimator:hover label.sk-toggleable__label-arrow:before {color: black;}#sk-container-id-2 div.sk-toggleable__content {max-height: 0;max-width: 0;overflow: hidden;text-align: left;background-color: #f0f8ff;}#sk-container-id-2 div.sk-toggleable__content pre {margin: 0.2em;color: black;border-radius: 0.25em;background-color: #f0f8ff;}#sk-container-id-2 input.sk-toggleable__control:checked~div.sk-toggleable__content {max-height: 200px;max-width: 100%;overflow: auto;}#sk-container-id-2 input.sk-toggleable__control:checked~label.sk-toggleable__label-arrow:before {content: \"▾\";}#sk-container-id-2 div.sk-estimator input.sk-toggleable__control:checked~label.sk-toggleable__label {background-color: #d4ebff;}#sk-container-id-2 div.sk-label input.sk-toggleable__control:checked~label.sk-toggleable__label {background-color: #d4ebff;}#sk-container-id-2 input.sk-hidden--visually {border: 0;clip: rect(1px 1px 1px 1px);clip: rect(1px, 1px, 1px, 1px);height: 1px;margin: -1px;overflow: hidden;padding: 0;position: absolute;width: 1px;}#sk-container-id-2 div.sk-estimator {font-family: monospace;background-color: #f0f8ff;border: 1px dotted black;border-radius: 0.25em;box-sizing: border-box;margin-bottom: 0.5em;}#sk-container-id-2 div.sk-estimator:hover {background-color: #d4ebff;}#sk-container-id-2 div.sk-parallel-item::after {content: \"\";width: 100%;border-bottom: 1px solid gray;flex-grow: 1;}#sk-container-id-2 div.sk-label:hover label.sk-toggleable__label {background-color: #d4ebff;}#sk-container-id-2 div.sk-serial::before {content: \"\";position: absolute;border-left: 1px solid gray;box-sizing: border-box;top: 0;bottom: 0;left: 50%;z-index: 0;}#sk-container-id-2 div.sk-serial {display: flex;flex-direction: column;align-items: center;background-color: white;padding-right: 0.2em;padding-left: 0.2em;position: relative;}#sk-container-id-2 div.sk-item {position: relative;z-index: 1;}#sk-container-id-2 div.sk-parallel {display: flex;align-items: stretch;justify-content: center;background-color: white;position: relative;}#sk-container-id-2 div.sk-item::before, #sk-container-id-2 div.sk-parallel-item::before {content: \"\";position: absolute;border-left: 1px solid gray;box-sizing: border-box;top: 0;bottom: 0;left: 50%;z-index: -1;}#sk-container-id-2 div.sk-parallel-item {display: flex;flex-direction: column;z-index: 1;position: relative;background-color: white;}#sk-container-id-2 div.sk-parallel-item:first-child::after {align-self: flex-end;width: 50%;}#sk-container-id-2 div.sk-parallel-item:last-child::after {align-self: flex-start;width: 50%;}#sk-container-id-2 div.sk-parallel-item:only-child::after {width: 0;}#sk-container-id-2 div.sk-dashed-wrapped {border: 1px dashed gray;margin: 0 0.4em 0.5em 0.4em;box-sizing: border-box;padding-bottom: 0.4em;background-color: white;}#sk-container-id-2 div.sk-label label {font-family: monospace;font-weight: bold;display: inline-block;line-height: 1.2em;}#sk-container-id-2 div.sk-label-container {text-align: center;}#sk-container-id-2 div.sk-container {/* jupyter's `normalize.less` sets `[hidden] { display: none; }` but bootstrap.min.css set `[hidden] { display: none !important; }` so we also need the `!important` here to be able to override the default hidden behavior on the sphinx rendered scikit-learn.org. See: https://github.com/scikit-learn/scikit-learn/issues/21755 */display: inline-block !important;position: relative;}#sk-container-id-2 div.sk-text-repr-fallback {display: none;}</style><div id=\"sk-container-id-2\" class=\"sk-top-container\"><div class=\"sk-text-repr-fallback\"><pre>KNeighborsClassifier()</pre><b>In a Jupyter environment, please rerun this cell to show the HTML representation or trust the notebook. <br />On GitHub, the HTML representation is unable to render, please try loading this page with nbviewer.org.</b></div><div class=\"sk-container\" hidden><div class=\"sk-item\"><div class=\"sk-estimator sk-toggleable\"><input class=\"sk-toggleable__control sk-hidden--visually\" id=\"sk-estimator-id-2\" type=\"checkbox\" checked><label for=\"sk-estimator-id-2\" class=\"sk-toggleable__label sk-toggleable__label-arrow\">KNeighborsClassifier</label><div class=\"sk-toggleable__content\"><pre>KNeighborsClassifier()</pre></div></div></div></div></div>"
            ],
            "text/plain": [
              "KNeighborsClassifier()"
            ]
          },
          "execution_count": 58,
          "metadata": {},
          "output_type": "execute_result"
        }
      ],
      "source": [
        "from sklearn.neighbors import KNeighborsClassifier\n",
        "from sklearn.model_selection import cross_val_score\n",
        "\n",
        "knn = KNeighborsClassifier(n_neighbors=5)\n",
        "knn.fit(X_train, y_train)"
      ]
    },
    {
      "cell_type": "code",
      "execution_count": null,
      "id": "883deff1",
      "metadata": {
        "id": "883deff1",
        "outputId": "cb09d26c-e1a2-499a-b31f-c18cd4618242"
      },
      "outputs": [
        {
          "name": "stdout",
          "output_type": "stream",
          "text": [
            "Accuracy: 0.7667691195082263\n"
          ]
        }
      ],
      "source": [
        "y_pred = knn.predict(X_test)\n",
        "accuracy = accuracy_score(y_test, y_pred)\n",
        "print(\"Accuracy:\", accuracy)\n"
      ]
    },
    {
      "cell_type": "code",
      "execution_count": null,
      "id": "507d9ff2",
      "metadata": {
        "id": "507d9ff2"
      },
      "outputs": [],
      "source": [
        "k_values = [i for i in range (1,31)]\n",
        "scores = []\n",
        "\n",
        "scaler = StandardScaler()\n",
        "X = scaler.fit_transform(X)\n",
        "\n",
        "for k in k_values:\n",
        "    knn = KNeighborsClassifier(n_neighbors=k)\n",
        "    score = cross_val_score(knn, X, y, cv=5)\n",
        "    scores.append(np.mean(score))\n",
        "    #print(scores)\n",
        ""
      ]
    },
    {
      "cell_type": "code",
      "execution_count": null,
      "id": "1d2481af",
      "metadata": {
        "id": "1d2481af",
        "outputId": "1d535702-4cbb-48fd-89bf-dc38f03abdc2"
      },
      "outputs": [
        {
          "name": "stdout",
          "output_type": "stream",
          "text": [
            "[0.6802638827212423, 0.7458710614021781, 0.7199430376080871, 0.7499936469409239, 0.7364059852987822, 0.7534382001811218, 0.7439458656847467, 0.7557436122335461, 0.7506719955133244, 0.7580217548601821, 0.7543333875779766, 0.7578860696997697, 0.7557436490095756, 0.7585912537408117, 0.7574251594011023, 0.7600287000133313, 0.7578048939701103, 0.7600558480782226, 0.7583744112387546, 0.7603812791622421, 0.7588625578647836, 0.7608422997889976, 0.7605169128362135, 0.7617644109169642, 0.7616830954383933, 0.7617915038178116, 0.7611677308730169, 0.7623339061199911, 0.7618728965260443, 0.7621982908340345]\n"
          ]
        }
      ],
      "source": [
        "print(scores)"
      ]
    },
    {
      "cell_type": "code",
      "execution_count": null,
      "id": "4f08105d",
      "metadata": {
        "id": "4f08105d",
        "outputId": "9425d400-d9bc-4440-88f0-7689d493b726"
      },
      "outputs": [
        {
          "data": {
            "text/plain": [
              "Text(0, 0.5, 'Accuracy Score')"
            ]
          },
          "execution_count": 62,
          "metadata": {},
          "output_type": "execute_result"
        },
        {
          "data": {
            "image/png": "[encoded data removed]",
            "text/plain": [
              "<Figure size 640x480 with 1 Axes>"
            ]
          },
          "metadata": {},
          "output_type": "display_data"
        }
      ],
      "source": [
        "import seaborn as sns\n",
        "\n",
        "sns.lineplot(x = k_values, y = scores, marker = 'o')\n",
        "plt.xlabel(\"K Values\")\n",
        "plt.ylabel(\"Accuracy Score\")"
      ]
    },
    {
      "cell_type": "code",
      "execution_count": null,
      "id": "fe9238fe",
      "metadata": {
        "id": "fe9238fe"
      },
      "outputs": [],
      "source": [
        "#https://www.datacamp.com/tutorial/k-nearest-neighbor-classification-scikit-learn"
      ]
    },
    {
      "cell_type": "code",
      "execution_count": null,
      "id": "527242f6",
      "metadata": {
        "id": "527242f6",
        "outputId": "242d03de-9c51-431a-81c5-6f7773c1fe4a"
      },
      "outputs": [
        {
          "name": "stdout",
          "output_type": "stream",
          "text": [
            "28\n"
          ]
        },
        {
          "data": {
            "text/html": [
              "<style>#sk-container-id-3 {color: black;}#sk-container-id-3 pre{padding: 0;}#sk-container-id-3 div.sk-toggleable {background-color: white;}#sk-container-id-3 label.sk-toggleable__label {cursor: pointer;display: block;width: 100%;margin-bottom: 0;padding: 0.3em;box-sizing: border-box;text-align: center;}#sk-container-id-3 label.sk-toggleable__label-arrow:before {content: \"▸\";float: left;margin-right: 0.25em;color: #696969;}#sk-container-id-3 label.sk-toggleable__label-arrow:hover:before {color: black;}#sk-container-id-3 div.sk-estimator:hover label.sk-toggleable__label-arrow:before {color: black;}#sk-container-id-3 div.sk-toggleable__content {max-height: 0;max-width: 0;overflow: hidden;text-align: left;background-color: #f0f8ff;}#sk-container-id-3 div.sk-toggleable__content pre {margin: 0.2em;color: black;border-radius: 0.25em;background-color: #f0f8ff;}#sk-container-id-3 input.sk-toggleable__control:checked~div.sk-toggleable__content {max-height: 200px;max-width: 100%;overflow: auto;}#sk-container-id-3 input.sk-toggleable__control:checked~label.sk-toggleable__label-arrow:before {content: \"▾\";}#sk-container-id-3 div.sk-estimator input.sk-toggleable__control:checked~label.sk-toggleable__label {background-color: #d4ebff;}#sk-container-id-3 div.sk-label input.sk-toggleable__control:checked~label.sk-toggleable__label {background-color: #d4ebff;}#sk-container-id-3 input.sk-hidden--visually {border: 0;clip: rect(1px 1px 1px 1px);clip: rect(1px, 1px, 1px, 1px);height: 1px;margin: -1px;overflow: hidden;padding: 0;position: absolute;width: 1px;}#sk-container-id-3 div.sk-estimator {font-family: monospace;background-color: #f0f8ff;border: 1px dotted black;border-radius: 0.25em;box-sizing: border-box;margin-bottom: 0.5em;}#sk-container-id-3 div.sk-estimator:hover {background-color: #d4ebff;}#sk-container-id-3 div.sk-parallel-item::after {content: \"\";width: 100%;border-bottom: 1px solid gray;flex-grow: 1;}#sk-container-id-3 div.sk-label:hover label.sk-toggleable__label {background-color: #d4ebff;}#sk-container-id-3 div.sk-serial::before {content: \"\";position: absolute;border-left: 1px solid gray;box-sizing: border-box;top: 0;bottom: 0;left: 50%;z-index: 0;}#sk-container-id-3 div.sk-serial {display: flex;flex-direction: column;align-items: center;background-color: white;padding-right: 0.2em;padding-left: 0.2em;position: relative;}#sk-container-id-3 div.sk-item {position: relative;z-index: 1;}#sk-container-id-3 div.sk-parallel {display: flex;align-items: stretch;justify-content: center;background-color: white;position: relative;}#sk-container-id-3 div.sk-item::before, #sk-container-id-3 div.sk-parallel-item::before {content: \"\";position: absolute;border-left: 1px solid gray;box-sizing: border-box;top: 0;bottom: 0;left: 50%;z-index: -1;}#sk-container-id-3 div.sk-parallel-item {display: flex;flex-direction: column;z-index: 1;position: relative;background-color: white;}#sk-container-id-3 div.sk-parallel-item:first-child::after {align-self: flex-end;width: 50%;}#sk-container-id-3 div.sk-parallel-item:last-child::after {align-self: flex-start;width: 50%;}#sk-container-id-3 div.sk-parallel-item:only-child::after {width: 0;}#sk-container-id-3 div.sk-dashed-wrapped {border: 1px dashed gray;margin: 0 0.4em 0.5em 0.4em;box-sizing: border-box;padding-bottom: 0.4em;background-color: white;}#sk-container-id-3 div.sk-label label {font-family: monospace;font-weight: bold;display: inline-block;line-height: 1.2em;}#sk-container-id-3 div.sk-label-container {text-align: center;}#sk-container-id-3 div.sk-container {/* jupyter's `normalize.less` sets `[hidden] { display: none; }` but bootstrap.min.css set `[hidden] { display: none !important; }` so we also need the `!important` here to be able to override the default hidden behavior on the sphinx rendered scikit-learn.org. See: https://github.com/scikit-learn/scikit-learn/issues/21755 */display: inline-block !important;position: relative;}#sk-container-id-3 div.sk-text-repr-fallback {display: none;}</style><div id=\"sk-container-id-3\" class=\"sk-top-container\"><div class=\"sk-text-repr-fallback\"><pre>KNeighborsClassifier(n_neighbors=28)</pre><b>In a Jupyter environment, please rerun this cell to show the HTML representation or trust the notebook. <br />On GitHub, the HTML representation is unable to render, please try loading this page with nbviewer.org.</b></div><div class=\"sk-container\" hidden><div class=\"sk-item\"><div class=\"sk-estimator sk-toggleable\"><input class=\"sk-toggleable__control sk-hidden--visually\" id=\"sk-estimator-id-3\" type=\"checkbox\" checked><label for=\"sk-estimator-id-3\" class=\"sk-toggleable__label sk-toggleable__label-arrow\">KNeighborsClassifier</label><div class=\"sk-toggleable__content\"><pre>KNeighborsClassifier(n_neighbors=28)</pre></div></div></div></div></div>"
            ],
            "text/plain": [
              "KNeighborsClassifier(n_neighbors=28)"
            ]
          },
          "execution_count": 64,
          "metadata": {},
          "output_type": "execute_result"
        }
      ],
      "source": [
        "best_index = np.argmax(scores)\n",
        "best_k = k_values[best_index]\n",
        "print (best_k)\n",
        "knn = KNeighborsClassifier(n_neighbors=best_k)\n",
        "knn.fit(X_train, y_train)"
      ]
    },
    {
      "cell_type": "code",
      "execution_count": null,
      "id": "7b6c205c",
      "metadata": {
        "id": "7b6c205c",
        "outputId": "0e6b7c55-8791-4025-9fe3-a0907ed2cdc2"
      },
      "outputs": [
        {
          "name": "stdout",
          "output_type": "stream",
          "text": [
            "Accuracy: 0.7679\n",
            "Precision: 0.6974\n",
            "Recall: 0.0404\n"
          ]
        }
      ],
      "source": [
        "y_pred = knn.predict(X_test)\n",
        "\n",
        "accuracy = accuracy_score(y_test, y_pred)\n",
        "precision = precision_score(y_test, y_pred)\n",
        "recall = recall_score(y_test, y_pred)\n",
        "\n",
        "print(f'Accuracy: {accuracy:.4f}')\n",
        "print(f'Precision: {precision:.4f}')\n",
        "print(f'Recall: {recall:.4f}')"
      ]
    },
    {
      "cell_type": "markdown",
      "id": "5f91ecfc",
      "metadata": {
        "id": "5f91ecfc"
      },
      "source": [
        "# Neural Networks"
      ]
    },
    {
      "cell_type": "code",
      "execution_count": null,
      "id": "14a217f5",
      "metadata": {
        "id": "14a217f5",
        "outputId": "f605d299-87fb-4efd-9be5-cded1fcb7153"
      },
      "outputs": [
        {
          "name": "stdout",
          "output_type": "stream",
          "text": [
            "Model: \"sequential\"\n",
            "_________________________________________________________________\n",
            " Layer (type)                Output Shape              Param #   \n",
            "=================================================================\n",
            " dense (Dense)               (None, 128)               14464     \n",
            "                                                                 \n",
            " dense_1 (Dense)             (None, 1)                 129       \n",
            "                                                                 \n",
            "=================================================================\n",
            "Total params: 14,593\n",
            "Trainable params: 14,593\n",
            "Non-trainable params: 0\n",
            "_________________________________________________________________\n"
          ]
        }
      ],
      "source": [
        "from keras.models import Sequential\n",
        "from keras.layers import Dense\n",
        "\n",
        "model = Sequential()\n",
        "model.add(Dense(128, activation='relu', input_dim=112))\n",
        "model.add(Dense(1, activation='sigmoid'))\n",
        "model.compile(loss='binary_crossentropy', optimizer='adam', metrics=['accuracy'])\n",
        "model.summary()"
      ]
    },
    {
      "cell_type": "code",
      "execution_count": null,
      "id": "117932ca",
      "metadata": {
        "id": "117932ca",
        "outputId": "8ed5aac8-0c95-4f3a-8c1b-93820cf9d45c"
      },
      "outputs": [
        {
          "name": "stdout",
          "output_type": "stream",
          "text": [
            "Epoch 1/5\n",
            "807/807 [==============================] - 3s 3ms/step - loss: 0.4049 - accuracy: 0.8195 - val_loss: 0.3956 - val_accuracy: 0.8276\n",
            "Epoch 2/5\n",
            "807/807 [==============================] - 3s 3ms/step - loss: 0.3756 - accuracy: 0.8341 - val_loss: 0.3945 - val_accuracy: 0.8300\n",
            "Epoch 3/5\n",
            "807/807 [==============================] - 3s 3ms/step - loss: 0.3640 - accuracy: 0.8390 - val_loss: 0.3969 - val_accuracy: 0.8269\n",
            "Epoch 4/5\n",
            "807/807 [==============================] - 3s 3ms/step - loss: 0.3540 - accuracy: 0.8429 - val_loss: 0.3971 - val_accuracy: 0.8272\n",
            "Epoch 5/5\n",
            "807/807 [==============================] - 3s 3ms/step - loss: 0.3445 - accuracy: 0.8478 - val_loss: 0.3999 - val_accuracy: 0.8251\n"
          ]
        }
      ],
      "source": [
        "hist = model.fit(X_train, y_train, validation_data=(X_test, y_test), epochs=5, batch_size=32)"
      ]
    },
    {
      "cell_type": "code",
      "execution_count": null,
      "id": "5baff952",
      "metadata": {
        "id": "5baff952",
        "outputId": "51dd81d0-e2e5-4add-ecaf-1b68a5e693a7"
      },
      "outputs": [
        {
          "data": {
            "text/plain": [
              "[]"
            ]
          },
          "execution_count": 68,
          "metadata": {},
          "output_type": "execute_result"
        },
        {
          "data": {
            "image/png": "[encoded data removed]",
            "text/plain": [
              "<Figure size 640x480 with 1 Axes>"
            ]
          },
          "metadata": {},
          "output_type": "display_data"
        }
      ],
      "source": [
        "import matplotlib.pyplot as plt\n",
        "%matplotlib inline\n",
        "import seaborn as sns\n",
        "sns.set()\n",
        "\n",
        "acc = hist.history['accuracy']\n",
        "val = hist.history['val_accuracy']\n",
        "epochs = range(1, len(acc) + 1)\n",
        "\n",
        "plt.plot(epochs, acc, '-', label='Training accuracy')\n",
        "plt.plot(epochs, val, ':', label='Validation accuracy')\n",
        "plt.title('Training and Validation Accuracy')\n",
        "plt.xlabel('Epoch')\n",
        "plt.ylabel('Accuracy')\n",
        "plt.legend(loc='lower right')\n",
        "plt.plot()"
      ]
    },
    {
      "cell_type": "code",
      "execution_count": null,
      "id": "11f6cd1b",
      "metadata": {
        "id": "11f6cd1b",
        "outputId": "dad82d8a-a98e-4061-9c3d-bd3c4fef3292"
      },
      "outputs": [
        {
          "name": "stdout",
          "output_type": "stream",
          "text": [
            "346/346 [==============================] - 0s 838us/step\n"
          ]
        },
        {
          "data": {
            "text/plain": [
              "Text(110.44999999999997, 0.5, 'Actual label')"
            ]
          },
          "execution_count": 69,
          "metadata": {},
          "output_type": "execute_result"
        },
        {
          "data": {
            "image/png": "[encoded data removed]",
            "text/plain": [
              "<Figure size 640x480 with 1 Axes>"
            ]
          },
          "metadata": {},
          "output_type": "display_data"
        }
      ],
      "source": [
        "from sklearn.metrics import confusion_matrix\n",
        "\n",
        "y_predicted = model.predict(X_test) > 0.5\n",
        "mat = confusion_matrix(y_test, y_predicted)\n",
        "labels = ['cd = 1', 'cd = 0']\n",
        "\n",
        "sns.heatmap(mat, square=True, annot=True, fmt='d', cbar=False, cmap='Blues',\n",
        "            xticklabels=labels, yticklabels=labels)\n",
        "\n",
        "plt.xlabel('Predicted label')\n",
        "plt.ylabel('Actual label')"
      ]
    },
    {
      "cell_type": "code",
      "execution_count": null,
      "id": "d24fcb54",
      "metadata": {
        "id": "d24fcb54",
        "outputId": "11ada7e9-d616-41dd-9571-3fc31c06ddc7"
      },
      "outputs": [
        {
          "name": "stdout",
          "output_type": "stream",
          "text": [
            "346/346 [==============================] - 1s 2ms/step - loss: 0.3999 - accuracy: 0.8251\n",
            "Test accuracy: 0.8250768780708313\n"
          ]
        }
      ],
      "source": [
        "loss, accuracy = model.evaluate(X_test, y_test)\n",
        "print('Test accuracy:', accuracy)"
      ]
    },
    {
      "cell_type": "code",
      "execution_count": null,
      "id": "3a4b5f34",
      "metadata": {
        "id": "3a4b5f34",
        "outputId": "9c14fc2e-c117-4f4e-9e87-f4fb2aef98d4"
      },
      "outputs": [
        {
          "data": {
            "image/png": "[encoded data removed]",
            "text/plain": [
              "<Figure size 640x480 with 1 Axes>"
            ]
          },
          "metadata": {},
          "output_type": "display_data"
        }
      ],
      "source": [
        "from sklearn.metrics import roc_auc_score\n",
        "from sklearn.metrics import roc_curve\n",
        "import matplotlib.pyplot as plt\n",
        "\n",
        "roc_auc = roc_auc_score(y_test, y_pred)\n",
        "fpr, tpr, thresholds = roc_curve(y_test, y_pred)\n",
        "plt.figure()\n",
        "plt.plot(fpr, tpr, label='Neural Network (area = %0.2f)' % roc_auc)\n",
        "plt.plot([0, 1], [0, 1],'r--')\n",
        "plt.xlim([0.0, 1.0])\n",
        "plt.ylim([0.0, 1.05])\n",
        "plt.xlabel('False Positive Rate')\n",
        "plt.ylabel('True Positive Rate')\n",
        "plt.title('Receiver operating characteristic')\n",
        "plt.legend(loc=\"lower right\")\n",
        "plt.savefig('Log_ROC')\n",
        "plt.show()\n",
        "\n",
        ""
      ]
    },
    {
      "cell_type": "code",
      "execution_count": null,
      "id": "ac578969",
      "metadata": {
        "id": "ac578969"
      },
      "outputs": [],
      "source": []
    }
  ],
  "metadata": {
    "kernelspec": {
      "display_name": "Python 3 (ipykernel)",
      "language": "python",
      "name": "python3"
    },
    "language_info": {
      "codemirror_mode": {
        "name": "ipython",
        "version": 3
      },
      "file_extension": ".py",
      "mimetype": "text/x-python",
      "name": "python",
      "nbconvert_exporter": "python",
      "pygments_lexer": "ipython3",
      "version": "3.9.13"
    },
    "colab": {
      "provenance": []
    }
  },
  "nbformat": 4,
  "nbformat_minor": 5
}