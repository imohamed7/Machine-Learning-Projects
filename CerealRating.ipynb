{
  "nbformat": 4,
  "nbformat_minor": 0,
  "metadata": {
    "colab": {
      "provenance": []
    },
    "kernelspec": {
      "name": "python3",
      "display_name": "Python 3"
    },
    "language_info": {
      "name": "python"
    }
  },
  "cells": [
    {
      "cell_type": "markdown",
      "source": [
        "# Business Question:\n",
        "What factors contribute most to the overall rating of a cereal product, and how can we optimize these factors to improve the product's market performance?"
      ],
      "metadata": {
        "id": "mOyYQTAJJLQT"
      }
    },
    {
      "cell_type": "code",
      "execution_count": null,
      "metadata": {
        "id": "61kl77BTmcRT"
      },
      "outputs": [],
      "source": [
        "%matplotlib inline\n",
        "from pathlib import Path\n",
        "import numpy as np\n",
        "import pandas as pd\n",
        "from sklearn.model_selection import train_test_split\n",
        "from sklearn.metrics import r2_score\n",
        "from sklearn.linear_model import LinearRegression\n",
        "\n",
        "import matplotlib.pylab as plt"
      ]
    },
    {
      "cell_type": "code",
      "source": [
        "from google.colab import drive\n",
        "drive.mount('/content/drive')"
      ],
      "metadata": {
        "colab": {
          "base_uri": "https://localhost:8080/"
        },
        "id": "lvUUGyX9nLKW",
        "outputId": "ab0a3ab1-1e45-411d-b30d-ba282efbb19d"
      },
      "execution_count": null,
      "outputs": [
        {
          "output_type": "stream",
          "name": "stdout",
          "text": [
            "Drive already mounted at /content/drive; to attempt to forcibly remount, call drive.mount(\"/content/drive\", force_remount=True).\n"
          ]
        }
      ]
    },
    {
      "cell_type": "code",
      "source": [
        "df_Cereals = pd.read_csv(\"/content/drive/MyDrive/Spring_2024/Business_ML/Code/Cereals.csv\")\n",
        "print(f\"Number of records: {df_Cereals.shape[0]:,}\\nNumber of columns: {df_Cereals.shape[1]:,}\")"
      ],
      "metadata": {
        "colab": {
          "base_uri": "https://localhost:8080/"
        },
        "id": "Jjre4ehjmy6F",
        "outputId": "ddf939fd-77bb-4c2b-e434-229968d659d7"
      },
      "execution_count": null,
      "outputs": [
        {
          "output_type": "stream",
          "name": "stdout",
          "text": [
            "Number of records: 77\n",
            "Number of columns: 16\n"
          ]
        }
      ]
    },
    {
      "cell_type": "code",
      "source": [
        "df_Cereals.head()"
      ],
      "metadata": {
        "colab": {
          "base_uri": "https://localhost:8080/",
          "height": 206
        },
        "id": "8dU4N_SMwWnL",
        "outputId": "10dcccb6-668c-4f70-96d0-1d66717e9ed0"
      },
      "execution_count": null,
      "outputs": [
        {
          "output_type": "execute_result",
          "data": {
            "text/plain": [
              "                        name mfr type  calories  protein  fat  sodium  fiber  \\\n",
              "0                  100%_Bran   N    C        70        4    1     130   10.0   \n",
              "1          100%_Natural_Bran   Q    C       120        3    5      15    2.0   \n",
              "2                   All-Bran   K    C        70        4    1     260    9.0   \n",
              "3  All-Bran_with_Extra_Fiber   K    C        50        4    0     140   14.0   \n",
              "4             Almond_Delight   R    C       110        2    2     200    1.0   \n",
              "\n",
              "   carbo  sugars  potass  vitamins  shelf  weight  cups     rating  \n",
              "0    5.0     6.0   280.0        25      3     1.0  0.33  68.402973  \n",
              "1    8.0     8.0   135.0         0      3     1.0  1.00  33.983679  \n",
              "2    7.0     5.0   320.0        25      3     1.0  0.33  59.425505  \n",
              "3    8.0     0.0   330.0        25      3     1.0  0.50  93.704912  \n",
              "4   14.0     8.0     NaN        25      3     1.0  0.75  34.384843  "
            ],
            "text/html": [
              "\n",
              "  <div id=\"df-1c9595c2-c60f-4a31-890f-9ee3c587eae9\" class=\"colab-df-container\">\n",
              "    <div>\n",
              "<style scoped>\n",
              "    .dataframe tbody tr th:only-of-type {\n",
              "        vertical-align: middle;\n",
              "    }\n",
              "\n",
              "    .dataframe tbody tr th {\n",
              "        vertical-align: top;\n",
              "    }\n",
              "\n",
              "    .dataframe thead th {\n",
              "        text-align: right;\n",
              "    }\n",
              "</style>\n",
              "<table border=\"1\" class=\"dataframe\">\n",
              "  <thead>\n",
              "    <tr style=\"text-align: right;\">\n",
              "      <th></th>\n",
              "      <th>name</th>\n",
              "      <th>mfr</th>\n",
              "      <th>type</th>\n",
              "      <th>calories</th>\n",
              "      <th>protein</th>\n",
              "      <th>fat</th>\n",
              "      <th>sodium</th>\n",
              "      <th>fiber</th>\n",
              "      <th>carbo</th>\n",
              "      <th>sugars</th>\n",
              "      <th>potass</th>\n",
              "      <th>vitamins</th>\n",
              "      <th>shelf</th>\n",
              "      <th>weight</th>\n",
              "      <th>cups</th>\n",
              "      <th>rating</th>\n",
              "    </tr>\n",
              "  </thead>\n",
              "  <tbody>\n",
              "    <tr>\n",
              "      <th>0</th>\n",
              "      <td>100%_Bran</td>\n",
              "      <td>N</td>\n",
              "      <td>C</td>\n",
              "      <td>70</td>\n",
              "      <td>4</td>\n",
              "      <td>1</td>\n",
              "      <td>130</td>\n",
              "      <td>10.0</td>\n",
              "      <td>5.0</td>\n",
              "      <td>6.0</td>\n",
              "      <td>280.0</td>\n",
              "      <td>25</td>\n",
              "      <td>3</td>\n",
              "      <td>1.0</td>\n",
              "      <td>0.33</td>\n",
              "      <td>68.402973</td>\n",
              "    </tr>\n",
              "    <tr>\n",
              "      <th>1</th>\n",
              "      <td>100%_Natural_Bran</td>\n",
              "      <td>Q</td>\n",
              "      <td>C</td>\n",
              "      <td>120</td>\n",
              "      <td>3</td>\n",
              "      <td>5</td>\n",
              "      <td>15</td>\n",
              "      <td>2.0</td>\n",
              "      <td>8.0</td>\n",
              "      <td>8.0</td>\n",
              "      <td>135.0</td>\n",
              "      <td>0</td>\n",
              "      <td>3</td>\n",
              "      <td>1.0</td>\n",
              "      <td>1.00</td>\n",
              "      <td>33.983679</td>\n",
              "    </tr>\n",
              "    <tr>\n",
              "      <th>2</th>\n",
              "      <td>All-Bran</td>\n",
              "      <td>K</td>\n",
              "      <td>C</td>\n",
              "      <td>70</td>\n",
              "      <td>4</td>\n",
              "      <td>1</td>\n",
              "      <td>260</td>\n",
              "      <td>9.0</td>\n",
              "      <td>7.0</td>\n",
              "      <td>5.0</td>\n",
              "      <td>320.0</td>\n",
              "      <td>25</td>\n",
              "      <td>3</td>\n",
              "      <td>1.0</td>\n",
              "      <td>0.33</td>\n",
              "      <td>59.425505</td>\n",
              "    </tr>\n",
              "    <tr>\n",
              "      <th>3</th>\n",
              "      <td>All-Bran_with_Extra_Fiber</td>\n",
              "      <td>K</td>\n",
              "      <td>C</td>\n",
              "      <td>50</td>\n",
              "      <td>4</td>\n",
              "      <td>0</td>\n",
              "      <td>140</td>\n",
              "      <td>14.0</td>\n",
              "      <td>8.0</td>\n",
              "      <td>0.0</td>\n",
              "      <td>330.0</td>\n",
              "      <td>25</td>\n",
              "      <td>3</td>\n",
              "      <td>1.0</td>\n",
              "      <td>0.50</td>\n",
              "      <td>93.704912</td>\n",
              "    </tr>\n",
              "    <tr>\n",
              "      <th>4</th>\n",
              "      <td>Almond_Delight</td>\n",
              "      <td>R</td>\n",
              "      <td>C</td>\n",
              "      <td>110</td>\n",
              "      <td>2</td>\n",
              "      <td>2</td>\n",
              "      <td>200</td>\n",
              "      <td>1.0</td>\n",
              "      <td>14.0</td>\n",
              "      <td>8.0</td>\n",
              "      <td>NaN</td>\n",
              "      <td>25</td>\n",
              "      <td>3</td>\n",
              "      <td>1.0</td>\n",
              "      <td>0.75</td>\n",
              "      <td>34.384843</td>\n",
              "    </tr>\n",
              "  </tbody>\n",
              "</table>\n",
              "</div>\n",
              "    <div class=\"colab-df-buttons\">\n",
              "\n",
              "  <div class=\"colab-df-container\">\n",
              "    <button class=\"colab-df-convert\" onclick=\"convertToInteractive('df-1c9595c2-c60f-4a31-890f-9ee3c587eae9')\"\n",
              "            title=\"Convert this dataframe to an interactive table.\"\n",
              "            style=\"display:none;\">\n",
              "\n",
              "  <svg xmlns=\"http://www.w3.org/2000/svg\" height=\"24px\" viewBox=\"0 -960 960 960\">\n",
              "    <path d=\"M120-120v-720h720v720H120Zm60-500h600v-160H180v160Zm220 220h160v-160H400v160Zm0 220h160v-160H400v160ZM180-400h160v-160H180v160Zm440 0h160v-160H620v160ZM180-180h160v-160H180v160Zm440 0h160v-160H620v160Z\"/>\n",
              "  </svg>\n",
              "    </button>\n",
              "\n",
              "  <style>\n",
              "    .colab-df-container {\n",
              "      display:flex;\n",
              "      gap: 12px;\n",
              "    }\n",
              "\n",
              "    .colab-df-convert {\n",
              "      background-color: #E8F0FE;\n",
              "      border: none;\n",
              "      border-radius: 50%;\n",
              "      cursor: pointer;\n",
              "      display: none;\n",
              "      fill: #1967D2;\n",
              "      height: 32px;\n",
              "      padding: 0 0 0 0;\n",
              "      width: 32px;\n",
              "    }\n",
              "\n",
              "    .colab-df-convert:hover {\n",
              "      background-color: #E2EBFA;\n",
              "      box-shadow: 0px 1px 2px rgba(60, 64, 67, 0.3), 0px 1px 3px 1px rgba(60, 64, 67, 0.15);\n",
              "      fill: #174EA6;\n",
              "    }\n",
              "\n",
              "    .colab-df-buttons div {\n",
              "      margin-bottom: 4px;\n",
              "    }\n",
              "\n",
              "    [theme=dark] .colab-df-convert {\n",
              "      background-color: #3B4455;\n",
              "      fill: #D2E3FC;\n",
              "    }\n",
              "\n",
              "    [theme=dark] .colab-df-convert:hover {\n",
              "      background-color: #434B5C;\n",
              "      box-shadow: 0px 1px 3px 1px rgba(0, 0, 0, 0.15);\n",
              "      filter: drop-shadow(0px 1px 2px rgba(0, 0, 0, 0.3));\n",
              "      fill: #FFFFFF;\n",
              "    }\n",
              "  </style>\n",
              "\n",
              "    <script>\n",
              "      const buttonEl =\n",
              "        document.querySelector('#df-1c9595c2-c60f-4a31-890f-9ee3c587eae9 button.colab-df-convert');\n",
              "      buttonEl.style.display =\n",
              "        google.colab.kernel.accessAllowed ? 'block' : 'none';\n",
              "\n",
              "      async function convertToInteractive(key) {\n",
              "        const element = document.querySelector('#df-1c9595c2-c60f-4a31-890f-9ee3c587eae9');\n",
              "        const dataTable =\n",
              "          await google.colab.kernel.invokeFunction('convertToInteractive',\n",
              "                                                    [key], {});\n",
              "        if (!dataTable) return;\n",
              "\n",
              "        const docLinkHtml = 'Like what you see? Visit the ' +\n",
              "          '<a target=\"_blank\" href=https://colab.research.google.com/notebooks/data_table.ipynb>data table notebook</a>'\n",
              "          + ' to learn more about interactive tables.';\n",
              "        element.innerHTML = '';\n",
              "        dataTable['output_type'] = 'display_data';\n",
              "        await google.colab.output.renderOutput(dataTable, element);\n",
              "        const docLink = document.createElement('div');\n",
              "        docLink.innerHTML = docLinkHtml;\n",
              "        element.appendChild(docLink);\n",
              "      }\n",
              "    </script>\n",
              "  </div>\n",
              "\n",
              "\n",
              "<div id=\"df-77f14a51-a39c-48b5-b165-318872dcf6f3\">\n",
              "  <button class=\"colab-df-quickchart\" onclick=\"quickchart('df-77f14a51-a39c-48b5-b165-318872dcf6f3')\"\n",
              "            title=\"Suggest charts\"\n",
              "            style=\"display:none;\">\n",
              "\n",
              "<svg xmlns=\"http://www.w3.org/2000/svg\" height=\"24px\"viewBox=\"0 0 24 24\"\n",
              "     width=\"24px\">\n",
              "    <g>\n",
              "        <path d=\"M19 3H5c-1.1 0-2 .9-2 2v14c0 1.1.9 2 2 2h14c1.1 0 2-.9 2-2V5c0-1.1-.9-2-2-2zM9 17H7v-7h2v7zm4 0h-2V7h2v10zm4 0h-2v-4h2v4z\"/>\n",
              "    </g>\n",
              "</svg>\n",
              "  </button>\n",
              "\n",
              "<style>\n",
              "  .colab-df-quickchart {\n",
              "      --bg-color: #E8F0FE;\n",
              "      --fill-color: #1967D2;\n",
              "      --hover-bg-color: #E2EBFA;\n",
              "      --hover-fill-color: #174EA6;\n",
              "      --disabled-fill-color: #AAA;\n",
              "      --disabled-bg-color: #DDD;\n",
              "  }\n",
              "\n",
              "  [theme=dark] .colab-df-quickchart {\n",
              "      --bg-color: #3B4455;\n",
              "      --fill-color: #D2E3FC;\n",
              "      --hover-bg-color: #434B5C;\n",
              "      --hover-fill-color: #FFFFFF;\n",
              "      --disabled-bg-color: #3B4455;\n",
              "      --disabled-fill-color: #666;\n",
              "  }\n",
              "\n",
              "  .colab-df-quickchart {\n",
              "    background-color: var(--bg-color);\n",
              "    border: none;\n",
              "    border-radius: 50%;\n",
              "    cursor: pointer;\n",
              "    display: none;\n",
              "    fill: var(--fill-color);\n",
              "    height: 32px;\n",
              "    padding: 0;\n",
              "    width: 32px;\n",
              "  }\n",
              "\n",
              "  .colab-df-quickchart:hover {\n",
              "    background-color: var(--hover-bg-color);\n",
              "    box-shadow: 0 1px 2px rgba(60, 64, 67, 0.3), 0 1px 3px 1px rgba(60, 64, 67, 0.15);\n",
              "    fill: var(--button-hover-fill-color);\n",
              "  }\n",
              "\n",
              "  .colab-df-quickchart-complete:disabled,\n",
              "  .colab-df-quickchart-complete:disabled:hover {\n",
              "    background-color: var(--disabled-bg-color);\n",
              "    fill: var(--disabled-fill-color);\n",
              "    box-shadow: none;\n",
              "  }\n",
              "\n",
              "  .colab-df-spinner {\n",
              "    border: 2px solid var(--fill-color);\n",
              "    border-color: transparent;\n",
              "    border-bottom-color: var(--fill-color);\n",
              "    animation:\n",
              "      spin 1s steps(1) infinite;\n",
              "  }\n",
              "\n",
              "  @keyframes spin {\n",
              "    0% {\n",
              "      border-color: transparent;\n",
              "      border-bottom-color: var(--fill-color);\n",
              "      border-left-color: var(--fill-color);\n",
              "    }\n",
              "    20% {\n",
              "      border-color: transparent;\n",
              "      border-left-color: var(--fill-color);\n",
              "      border-top-color: var(--fill-color);\n",
              "    }\n",
              "    30% {\n",
              "      border-color: transparent;\n",
              "      border-left-color: var(--fill-color);\n",
              "      border-top-color: var(--fill-color);\n",
              "      border-right-color: var(--fill-color);\n",
              "    }\n",
              "    40% {\n",
              "      border-color: transparent;\n",
              "      border-right-color: var(--fill-color);\n",
              "      border-top-color: var(--fill-color);\n",
              "    }\n",
              "    60% {\n",
              "      border-color: transparent;\n",
              "      border-right-color: var(--fill-color);\n",
              "    }\n",
              "    80% {\n",
              "      border-color: transparent;\n",
              "      border-right-color: var(--fill-color);\n",
              "      border-bottom-color: var(--fill-color);\n",
              "    }\n",
              "    90% {\n",
              "      border-color: transparent;\n",
              "      border-bottom-color: var(--fill-color);\n",
              "    }\n",
              "  }\n",
              "</style>\n",
              "\n",
              "  <script>\n",
              "    async function quickchart(key) {\n",
              "      const quickchartButtonEl =\n",
              "        document.querySelector('#' + key + ' button');\n",
              "      quickchartButtonEl.disabled = true;  // To prevent multiple clicks.\n",
              "      quickchartButtonEl.classList.add('colab-df-spinner');\n",
              "      try {\n",
              "        const charts = await google.colab.kernel.invokeFunction(\n",
              "            'suggestCharts', [key], {});\n",
              "      } catch (error) {\n",
              "        console.error('Error during call to suggestCharts:', error);\n",
              "      }\n",
              "      quickchartButtonEl.classList.remove('colab-df-spinner');\n",
              "      quickchartButtonEl.classList.add('colab-df-quickchart-complete');\n",
              "    }\n",
              "    (() => {\n",
              "      let quickchartButtonEl =\n",
              "        document.querySelector('#df-77f14a51-a39c-48b5-b165-318872dcf6f3 button');\n",
              "      quickchartButtonEl.style.display =\n",
              "        google.colab.kernel.accessAllowed ? 'block' : 'none';\n",
              "    })();\n",
              "  </script>\n",
              "</div>\n",
              "\n",
              "    </div>\n",
              "  </div>\n"
            ]
          },
          "metadata": {},
          "execution_count": 28
        }
      ]
    },
    {
      "cell_type": "code",
      "source": [
        "df_Cereals.describe"
      ],
      "metadata": {
        "colab": {
          "base_uri": "https://localhost:8080/"
        },
        "id": "Hf-FTze2ze42",
        "outputId": "4fd14812-a72a-4b23-b4c4-0eaf303b5864"
      },
      "execution_count": null,
      "outputs": [
        {
          "output_type": "execute_result",
          "data": {
            "text/plain": [
              "<bound method NDFrame.describe of                          name mfr type  calories  protein  fat  sodium  fiber  \\\n",
              "0                   100%_Bran   N    C        70        4    1     130   10.0   \n",
              "1           100%_Natural_Bran   Q    C       120        3    5      15    2.0   \n",
              "2                    All-Bran   K    C        70        4    1     260    9.0   \n",
              "3   All-Bran_with_Extra_Fiber   K    C        50        4    0     140   14.0   \n",
              "4              Almond_Delight   R    C       110        2    2     200    1.0   \n",
              "..                        ...  ..  ...       ...      ...  ...     ...    ...   \n",
              "72                    Triples   G    C       110        2    1     250    0.0   \n",
              "73                       Trix   G    C       110        1    1     140    0.0   \n",
              "74                 Wheat_Chex   R    C       100        3    1     230    3.0   \n",
              "75                   Wheaties   G    C       100        3    1     200    3.0   \n",
              "76        Wheaties_Honey_Gold   G    C       110        2    1     200    1.0   \n",
              "\n",
              "    carbo  sugars  potass  vitamins  shelf  weight  cups     rating  \n",
              "0     5.0     6.0   280.0        25      3     1.0  0.33  68.402973  \n",
              "1     8.0     8.0   135.0         0      3     1.0  1.00  33.983679  \n",
              "2     7.0     5.0   320.0        25      3     1.0  0.33  59.425505  \n",
              "3     8.0     0.0   330.0        25      3     1.0  0.50  93.704912  \n",
              "4    14.0     8.0     NaN        25      3     1.0  0.75  34.384843  \n",
              "..    ...     ...     ...       ...    ...     ...   ...        ...  \n",
              "72   21.0     3.0    60.0        25      3     1.0  0.75  39.106174  \n",
              "73   13.0    12.0    25.0        25      2     1.0  1.00  27.753301  \n",
              "74   17.0     3.0   115.0        25      1     1.0  0.67  49.787445  \n",
              "75   17.0     3.0   110.0        25      1     1.0  1.00  51.592193  \n",
              "76   16.0     8.0    60.0        25      1     1.0  0.75  36.187559  \n",
              "\n",
              "[77 rows x 16 columns]>"
            ]
          },
          "metadata": {},
          "execution_count": 29
        }
      ]
    },
    {
      "cell_type": "markdown",
      "source": [
        "## Heat Map: Handling Missing Values"
      ],
      "metadata": {
        "id": "NeU1GT7t00Nu"
      }
    },
    {
      "cell_type": "code",
      "source": [
        "import seaborn as sns\n",
        "# visualizing missing values\n",
        "fig, ax = plt.subplots(figsize=(19,9))\n",
        "sns.heatmap(df_Cereals.isnull(), yticklabels=False,cmap='plasma')"
      ],
      "metadata": {
        "colab": {
          "base_uri": "https://localhost:8080/",
          "height": 776
        },
        "id": "MTBmOH1tzqTR",
        "outputId": "ba2f48d7-7181-4067-cd9e-a4bb980a5552"
      },
      "execution_count": null,
      "outputs": [
        {
          "output_type": "execute_result",
          "data": {
            "text/plain": [
              "<Axes: >"
            ]
          },
          "metadata": {},
          "execution_count": 30
        },
        {
          "output_type": "display_data",
          "data": {
            "text/plain": [
              "<Figure size 1900x900 with 2 Axes>"
            ],
            "image/png": "[encoded data removed]"
          },
          "metadata": {}
        }
      ]
    },
    {
      "cell_type": "code",
      "source": [
        "# Count missing values per column\n",
        "missing_values = df_Cereals.isnull().sum()\n",
        "\n",
        "# Calculate percentage of missing values per column\n",
        "percentage_missing = (missing_values / len(df_Cereals)) * 100\n",
        "\n",
        "# Create a DataFrame to display the results\n",
        "missing_data_summary = pd.DataFrame({\n",
        "    'Missing Values': missing_values,\n",
        "    'Percentage Missing': percentage_missing\n",
        "})\n",
        "\n",
        "# Display the summary\n",
        "print(missing_data_summary)"
      ],
      "metadata": {
        "colab": {
          "base_uri": "https://localhost:8080/"
        },
        "id": "jAAORSHx0aV-",
        "outputId": "08001b96-6d41-44f6-c505-0913545ab32e"
      },
      "execution_count": null,
      "outputs": [
        {
          "output_type": "stream",
          "name": "stdout",
          "text": [
            "          Missing Values  Percentage Missing\n",
            "name                   0            0.000000\n",
            "mfr                    0            0.000000\n",
            "type                   0            0.000000\n",
            "calories               0            0.000000\n",
            "protein                0            0.000000\n",
            "fat                    0            0.000000\n",
            "sodium                 0            0.000000\n",
            "fiber                  0            0.000000\n",
            "carbo                  1            1.298701\n",
            "sugars                 1            1.298701\n",
            "potass                 2            2.597403\n",
            "vitamins               0            0.000000\n",
            "shelf                  0            0.000000\n",
            "weight                 0            0.000000\n",
            "cups                   0            0.000000\n",
            "rating                 0            0.000000\n"
          ]
        }
      ]
    },
    {
      "cell_type": "code",
      "source": [
        "# Drop rows with any missing values\n",
        "df_Cereals = df_Cereals.dropna()\n",
        "\n",
        "# Display the info of the cleaned DataFrame\n",
        "df_Cereals.info()"
      ],
      "metadata": {
        "colab": {
          "base_uri": "https://localhost:8080/"
        },
        "id": "nFiEuQY71deI",
        "outputId": "2d65fce2-38a8-41d9-d8d3-5ba8b44ebebb"
      },
      "execution_count": null,
      "outputs": [
        {
          "output_type": "stream",
          "name": "stdout",
          "text": [
            "<class 'pandas.core.frame.DataFrame'>\n",
            "Int64Index: 74 entries, 0 to 76\n",
            "Data columns (total 16 columns):\n",
            " #   Column    Non-Null Count  Dtype  \n",
            "---  ------    --------------  -----  \n",
            " 0   name      74 non-null     object \n",
            " 1   mfr       74 non-null     object \n",
            " 2   type      74 non-null     object \n",
            " 3   calories  74 non-null     int64  \n",
            " 4   protein   74 non-null     int64  \n",
            " 5   fat       74 non-null     int64  \n",
            " 6   sodium    74 non-null     int64  \n",
            " 7   fiber     74 non-null     float64\n",
            " 8   carbo     74 non-null     float64\n",
            " 9   sugars    74 non-null     float64\n",
            " 10  potass    74 non-null     float64\n",
            " 11  vitamins  74 non-null     int64  \n",
            " 12  shelf     74 non-null     int64  \n",
            " 13  weight    74 non-null     float64\n",
            " 14  cups      74 non-null     float64\n",
            " 15  rating    74 non-null     float64\n",
            "dtypes: float64(7), int64(6), object(3)\n",
            "memory usage: 9.8+ KB\n"
          ]
        }
      ]
    },
    {
      "cell_type": "markdown",
      "source": [
        "Since none of the columns are missing an extensive amoung of data, I will not drop any of the columns."
      ],
      "metadata": {
        "id": "5fVN8qdWJaGG"
      }
    },
    {
      "cell_type": "markdown",
      "source": [
        "## Correlation Matrix"
      ],
      "metadata": {
        "id": "-tq3Nl6mJYEW"
      }
    },
    {
      "cell_type": "code",
      "source": [
        "import plotly.express as px\n",
        "# Calculate the correlation matrix\n",
        "correlation_matrix = df_Cereals.corr()\n",
        "\n",
        "# Create a heatmap to visualize the correlation matrix\n",
        "fig = px.imshow(correlation_matrix,\n",
        "                labels=dict(color=\"Correlation\"),\n",
        "                x=correlation_matrix.columns,\n",
        "                y=correlation_matrix.columns,\n",
        "                color_continuous_scale='viridis')\n",
        "\n",
        "fig.update_layout(\n",
        "    title='Correlation of Variables',\n",
        "    width=1000,\n",
        "    height=800,\n",
        "    font=dict(size=10),  # Adjust font size for better visibility\n",
        "    margin=dict(l=40, r=40, t=80, b=40),  # Set margins for better layout\n",
        ")\n",
        "\n",
        "for i in range(len(correlation_matrix.columns)):\n",
        "    for j in range(len(correlation_matrix.columns)):\n",
        "        fig.add_annotation(x=correlation_matrix.columns[i],\n",
        "                           y=correlation_matrix.columns[j],\n",
        "                           text=str(round(correlation_matrix.iloc[i, j], 2)),\n",
        "                           showarrow=False,\n",
        "                           font=dict(color='black', size=8))\n",
        "\n",
        "fig.show()"
      ],
      "metadata": {
        "colab": {
          "base_uri": "https://localhost:8080/",
          "height": 886
        },
        "id": "WiGVlaLsFPq5",
        "outputId": "13c86333-7e70-4a21-b643-47cceea676db"
      },
      "execution_count": null,
      "outputs": [
        {
          "output_type": "stream",
          "name": "stderr",
          "text": [
            "<ipython-input-33-168db2a399f4>:3: FutureWarning:\n",
            "\n",
            "The default value of numeric_only in DataFrame.corr is deprecated. In a future version, it will default to False. Select only valid columns or specify the value of numeric_only to silence this warning.\n",
            "\n"
          ]
        },
        {
          "output_type": "display_data",
          "data": {
            "text/html": [
              "<html>\n",
              "<head><meta charset=\"utf-8\" /></head>\n",
              "<body>\n",
              "    <div>            <script src=\"https://cdnjs.cloudflare.com/ajax/libs/mathjax/2.7.5/MathJax.js?config=TeX-AMS-MML_SVG\"></script><script type=\"text/javascript\">if (window.MathJax && window.MathJax.Hub && window.MathJax.Hub.Config) {window.MathJax.Hub.Config({SVG: {font: \"STIX-Web\"}});}</script>                <script type=\"text/javascript\">window.PlotlyConfig = {MathJaxConfig: 'local'};</script>\n",
              "        <script charset=\"utf-8\" src=\"https://cdn.plot.ly/plotly-2.24.1.min.js\"></script>                <div id=\"b59914cc-4602-4fee-8ba8-9d56ade2da7c\" class=\"plotly-graph-div\" style=\"height:800px; width:1000px;\"></div>            <script type=\"text/javascript\">                                    window.PLOTLYENV=window.PLOTLYENV || {};                                    if (document.getElementById(\"b59914cc-4602-4fee-8ba8-9d56ade2da7c\")) {                    Plotly.newPlot(                        \"b59914cc-4602-4fee-8ba8-9d56ade2da7c\",                        [{\"coloraxis\":\"coloraxis\",\"name\":\"0\",\"x\":[\"calories\",\"protein\",\"fat\",\"sodium\",\"fiber\",\"carbo\",\"sugars\",\"potass\",\"vitamins\",\"shelf\",\"weight\",\"cups\",\"rating\"],\"y\":[\"calories\",\"protein\",\"fat\",\"sodium\",\"fiber\",\"carbo\",\"sugars\",\"potass\",\"vitamins\",\"shelf\",\"weight\",\"cups\",\"rating\"],\"z\":[[1.0,0.03399166360758575,0.5073732396988851,0.2962474980958479,-0.29521183222742475,0.2706060473011232,0.5691205352290349,-0.0713612471244931,0.25984555557017724,0.08924278286753864,0.6964521459680856,0.08919614605151006,-0.6937846629537249],[0.03399166360758575,1.0,0.20235339629707777,0.011558891282836593,0.5140061041759273,-0.036743263381971446,-0.2865839669980418,0.5787428373543866,0.05479951553311534,0.19563468284858274,0.23067141404651326,-0.24209861190488033,0.46716218031384343],[0.5073732396988851,0.20235339629707777,1.0,0.0008219035881298988,0.01403586535110864,-0.28493368548456577,0.2871524865670798,0.19963671706342,-0.030513909884867674,0.2779797245712847,0.22171416466280128,-0.15757870410972843,-0.4050501988243347],[0.2962474980958479,0.011558891282836593,0.0008219035881298988,1.0,-0.07073492302476103,0.3284091856680938,0.03705896115907943,-0.039438087553083374,0.33157596402613954,-0.12189681616390594,0.3125335701127112,0.11958410831854975,-0.3830123580708774],[-0.29521183222742475,0.5140061041759273,0.01403586535110864,-0.07073492302476103,1.0,-0.37908370090638266,-0.15094850150635283,0.9115039209638021,-0.03871733739537993,0.31378735752353787,0.24629218359288443,-0.5136971626956105,0.6034108974552955],[0.2706060473011232,-0.036743263381971446,-0.28493368548456577,0.3284091856680938,-0.37908370090638266,1.0,-0.4520691888786201,-0.3650029343161189,0.2535789667048754,-0.18899627079346007,0.1448052796159219,0.3582837115317941,0.05594128529048929],[0.5691205352290349,-0.2865839669980418,0.2871524865670798,0.03705896115907943,-0.15094850150635283,-0.4520691888786201,1.0,0.001413981857515056,0.07295438201430264,0.061449087741403695,0.46054713456547147,-0.03243610038776632,-0.7559550888889877],[-0.0713612471244931,0.5787428373543866,0.19963671706342,-0.039438087553083374,0.9115039209638021,-0.3650029343161189,0.001413981857515056,1.0,-0.0026358303436374046,0.3945854849707792,0.4205615338408524,-0.5016883183449597,0.4157824434300914],[0.25984555557017724,0.05479951553311534,-0.030513909884867674,0.33157596402613954,-0.03871733739537993,0.2535789667048754,0.07295438201430264,-0.0026358303436374046,1.0,0.2844047947806737,0.32043479715263473,0.1336296469382261,-0.2144809450895496],[0.08924278286753864,0.19563468284858274,0.2779797245712847,-0.12189681616390594,0.31378735752353787,-0.18899627079346007,0.061449087741403695,0.3945854849707792,0.2844047947806737,1.0,0.19284303533831437,-0.35103353670414483,0.05103974978110976],[0.6964521459680856,0.23067141404651326,0.22171416466280128,0.3125335701127112,0.24629218359288443,0.1448052796159219,0.46054713456547147,0.4205615338408524,0.32043479715263473,0.19284303533831437,1.0,-0.2017146477993855,-0.300461040221778],[0.08919614605151006,-0.24209861190488033,-0.15757870410972843,0.11958410831854975,-0.5136971626956105,0.3582837115317941,-0.03243610038776632,-0.5016883183449597,0.1336296469382261,-0.35103353670414483,-0.2017146477993855,1.0,-0.22250439541244432],[-0.6937846629537249,0.46716218031384343,-0.4050501988243347,-0.3830123580708774,0.6034108974552955,0.05594128529048929,-0.7559550888889877,0.4157824434300914,-0.2144809450895496,0.05103974978110976,-0.300461040221778,-0.22250439541244432,1.0]],\"type\":\"heatmap\",\"xaxis\":\"x\",\"yaxis\":\"y\",\"hovertemplate\":\"x: %{x}\\u003cbr\\u003ey: %{y}\\u003cbr\\u003eCorrelation: %{z}\\u003cextra\\u003e\\u003c\\u002fextra\\u003e\"}],                        {\"template\":{\"data\":{\"histogram2dcontour\":[{\"type\":\"histogram2dcontour\",\"colorbar\":{\"outlinewidth\":0,\"ticks\":\"\"},\"colorscale\":[[0.0,\"#0d0887\"],[0.1111111111111111,\"#46039f\"],[0.2222222222222222,\"#7201a8\"],[0.3333333333333333,\"#9c179e\"],[0.4444444444444444,\"#bd3786\"],[0.5555555555555556,\"#d8576b\"],[0.6666666666666666,\"#ed7953\"],[0.7777777777777778,\"#fb9f3a\"],[0.8888888888888888,\"#fdca26\"],[1.0,\"#f0f921\"]]}],\"choropleth\":[{\"type\":\"choropleth\",\"colorbar\":{\"outlinewidth\":0,\"ticks\":\"\"}}],\"histogram2d\":[{\"type\":\"histogram2d\",\"colorbar\":{\"outlinewidth\":0,\"ticks\":\"\"},\"colorscale\":[[0.0,\"#0d0887\"],[0.1111111111111111,\"#46039f\"],[0.2222222222222222,\"#7201a8\"],[0.3333333333333333,\"#9c179e\"],[0.4444444444444444,\"#bd3786\"],[0.5555555555555556,\"#d8576b\"],[0.6666666666666666,\"#ed7953\"],[0.7777777777777778,\"#fb9f3a\"],[0.8888888888888888,\"#fdca26\"],[1.0,\"#f0f921\"]]}],\"heatmap\":[{\"type\":\"heatmap\",\"colorbar\":{\"outlinewidth\":0,\"ticks\":\"\"},\"colorscale\":[[0.0,\"#0d0887\"],[0.1111111111111111,\"#46039f\"],[0.2222222222222222,\"#7201a8\"],[0.3333333333333333,\"#9c179e\"],[0.4444444444444444,\"#bd3786\"],[0.5555555555555556,\"#d8576b\"],[0.6666666666666666,\"#ed7953\"],[0.7777777777777778,\"#fb9f3a\"],[0.8888888888888888,\"#fdca26\"],[1.0,\"#f0f921\"]]}],\"heatmapgl\":[{\"type\":\"heatmapgl\",\"colorbar\":{\"outlinewidth\":0,\"ticks\":\"\"},\"colorscale\":[[0.0,\"#0d0887\"],[0.1111111111111111,\"#46039f\"],[0.2222222222222222,\"#7201a8\"],[0.3333333333333333,\"#9c179e\"],[0.4444444444444444,\"#bd3786\"],[0.5555555555555556,\"#d8576b\"],[0.6666666666666666,\"#ed7953\"],[0.7777777777777778,\"#fb9f3a\"],[0.8888888888888888,\"#fdca26\"],[1.0,\"#f0f921\"]]}],\"contourcarpet\":[{\"type\":\"contourcarpet\",\"colorbar\":{\"outlinewidth\":0,\"ticks\":\"\"}}],\"contour\":[{\"type\":\"contour\",\"colorbar\":{\"outlinewidth\":0,\"ticks\":\"\"},\"colorscale\":[[0.0,\"#0d0887\"],[0.1111111111111111,\"#46039f\"],[0.2222222222222222,\"#7201a8\"],[0.3333333333333333,\"#9c179e\"],[0.4444444444444444,\"#bd3786\"],[0.5555555555555556,\"#d8576b\"],[0.6666666666666666,\"#ed7953\"],[0.7777777777777778,\"#fb9f3a\"],[0.8888888888888888,\"#fdca26\"],[1.0,\"#f0f921\"]]}],\"surface\":[{\"type\":\"surface\",\"colorbar\":{\"outlinewidth\":0,\"ticks\":\"\"},\"colorscale\":[[0.0,\"#0d0887\"],[0.1111111111111111,\"#46039f\"],[0.2222222222222222,\"#7201a8\"],[0.3333333333333333,\"#9c179e\"],[0.4444444444444444,\"#bd3786\"],[0.5555555555555556,\"#d8576b\"],[0.6666666666666666,\"#ed7953\"],[0.7777777777777778,\"#fb9f3a\"],[0.8888888888888888,\"#fdca26\"],[1.0,\"#f0f921\"]]}],\"mesh3d\":[{\"type\":\"mesh3d\",\"colorbar\":{\"outlinewidth\":0,\"ticks\":\"\"}}],\"scatter\":[{\"fillpattern\":{\"fillmode\":\"overlay\",\"size\":10,\"solidity\":0.2},\"type\":\"scatter\"}],\"parcoords\":[{\"type\":\"parcoords\",\"line\":{\"colorbar\":{\"outlinewidth\":0,\"ticks\":\"\"}}}],\"scatterpolargl\":[{\"type\":\"scatterpolargl\",\"marker\":{\"colorbar\":{\"outlinewidth\":0,\"ticks\":\"\"}}}],\"bar\":[{\"error_x\":{\"color\":\"#2a3f5f\"},\"error_y\":{\"color\":\"#2a3f5f\"},\"marker\":{\"line\":{\"color\":\"#E5ECF6\",\"width\":0.5},\"pattern\":{\"fillmode\":\"overlay\",\"size\":10,\"solidity\":0.2}},\"type\":\"bar\"}],\"scattergeo\":[{\"type\":\"scattergeo\",\"marker\":{\"colorbar\":{\"outlinewidth\":0,\"ticks\":\"\"}}}],\"scatterpolar\":[{\"type\":\"scatterpolar\",\"marker\":{\"colorbar\":{\"outlinewidth\":0,\"ticks\":\"\"}}}],\"histogram\":[{\"marker\":{\"pattern\":{\"fillmode\":\"overlay\",\"size\":10,\"solidity\":0.2}},\"type\":\"histogram\"}],\"scattergl\":[{\"type\":\"scattergl\",\"marker\":{\"colorbar\":{\"outlinewidth\":0,\"ticks\":\"\"}}}],\"scatter3d\":[{\"type\":\"scatter3d\",\"line\":{\"colorbar\":{\"outlinewidth\":0,\"ticks\":\"\"}},\"marker\":{\"colorbar\":{\"outlinewidth\":0,\"ticks\":\"\"}}}],\"scattermapbox\":[{\"type\":\"scattermapbox\",\"marker\":{\"colorbar\":{\"outlinewidth\":0,\"ticks\":\"\"}}}],\"scatterternary\":[{\"type\":\"scatterternary\",\"marker\":{\"colorbar\":{\"outlinewidth\":0,\"ticks\":\"\"}}}],\"scattercarpet\":[{\"type\":\"scattercarpet\",\"marker\":{\"colorbar\":{\"outlinewidth\":0,\"ticks\":\"\"}}}],\"carpet\":[{\"aaxis\":{\"endlinecolor\":\"#2a3f5f\",\"gridcolor\":\"white\",\"linecolor\":\"white\",\"minorgridcolor\":\"white\",\"startlinecolor\":\"#2a3f5f\"},\"baxis\":{\"endlinecolor\":\"#2a3f5f\",\"gridcolor\":\"white\",\"linecolor\":\"white\",\"minorgridcolor\":\"white\",\"startlinecolor\":\"#2a3f5f\"},\"type\":\"carpet\"}],\"table\":[{\"cells\":{\"fill\":{\"color\":\"#EBF0F8\"},\"line\":{\"color\":\"white\"}},\"header\":{\"fill\":{\"color\":\"#C8D4E3\"},\"line\":{\"color\":\"white\"}},\"type\":\"table\"}],\"barpolar\":[{\"marker\":{\"line\":{\"color\":\"#E5ECF6\",\"width\":0.5},\"pattern\":{\"fillmode\":\"overlay\",\"size\":10,\"solidity\":0.2}},\"type\":\"barpolar\"}],\"pie\":[{\"automargin\":true,\"type\":\"pie\"}]},\"layout\":{\"autotypenumbers\":\"strict\",\"colorway\":[\"#636efa\",\"#EF553B\",\"#00cc96\",\"#ab63fa\",\"#FFA15A\",\"#19d3f3\",\"#FF6692\",\"#B6E880\",\"#FF97FF\",\"#FECB52\"],\"font\":{\"color\":\"#2a3f5f\"},\"hovermode\":\"closest\",\"hoverlabel\":{\"align\":\"left\"},\"paper_bgcolor\":\"white\",\"plot_bgcolor\":\"#E5ECF6\",\"polar\":{\"bgcolor\":\"#E5ECF6\",\"angularaxis\":{\"gridcolor\":\"white\",\"linecolor\":\"white\",\"ticks\":\"\"},\"radialaxis\":{\"gridcolor\":\"white\",\"linecolor\":\"white\",\"ticks\":\"\"}},\"ternary\":{\"bgcolor\":\"#E5ECF6\",\"aaxis\":{\"gridcolor\":\"white\",\"linecolor\":\"white\",\"ticks\":\"\"},\"baxis\":{\"gridcolor\":\"white\",\"linecolor\":\"white\",\"ticks\":\"\"},\"caxis\":{\"gridcolor\":\"white\",\"linecolor\":\"white\",\"ticks\":\"\"}},\"coloraxis\":{\"colorbar\":{\"outlinewidth\":0,\"ticks\":\"\"}},\"colorscale\":{\"sequential\":[[0.0,\"#0d0887\"],[0.1111111111111111,\"#46039f\"],[0.2222222222222222,\"#7201a8\"],[0.3333333333333333,\"#9c179e\"],[0.4444444444444444,\"#bd3786\"],[0.5555555555555556,\"#d8576b\"],[0.6666666666666666,\"#ed7953\"],[0.7777777777777778,\"#fb9f3a\"],[0.8888888888888888,\"#fdca26\"],[1.0,\"#f0f921\"]],\"sequentialminus\":[[0.0,\"#0d0887\"],[0.1111111111111111,\"#46039f\"],[0.2222222222222222,\"#7201a8\"],[0.3333333333333333,\"#9c179e\"],[0.4444444444444444,\"#bd3786\"],[0.5555555555555556,\"#d8576b\"],[0.6666666666666666,\"#ed7953\"],[0.7777777777777778,\"#fb9f3a\"],[0.8888888888888888,\"#fdca26\"],[1.0,\"#f0f921\"]],\"diverging\":[[0,\"#8e0152\"],[0.1,\"#c51b7d\"],[0.2,\"#de77ae\"],[0.3,\"#f1b6da\"],[0.4,\"#fde0ef\"],[0.5,\"#f7f7f7\"],[0.6,\"#e6f5d0\"],[0.7,\"#b8e186\"],[0.8,\"#7fbc41\"],[0.9,\"#4d9221\"],[1,\"#276419\"]]},\"xaxis\":{\"gridcolor\":\"white\",\"linecolor\":\"white\",\"ticks\":\"\",\"title\":{\"standoff\":15},\"zerolinecolor\":\"white\",\"automargin\":true,\"zerolinewidth\":2},\"yaxis\":{\"gridcolor\":\"white\",\"linecolor\":\"white\",\"ticks\":\"\",\"title\":{\"standoff\":15},\"zerolinecolor\":\"white\",\"automargin\":true,\"zerolinewidth\":2},\"scene\":{\"xaxis\":{\"backgroundcolor\":\"#E5ECF6\",\"gridcolor\":\"white\",\"linecolor\":\"white\",\"showbackground\":true,\"ticks\":\"\",\"zerolinecolor\":\"white\",\"gridwidth\":2},\"yaxis\":{\"backgroundcolor\":\"#E5ECF6\",\"gridcolor\":\"white\",\"linecolor\":\"white\",\"showbackground\":true,\"ticks\":\"\",\"zerolinecolor\":\"white\",\"gridwidth\":2},\"zaxis\":{\"backgroundcolor\":\"#E5ECF6\",\"gridcolor\":\"white\",\"linecolor\":\"white\",\"showbackground\":true,\"ticks\":\"\",\"zerolinecolor\":\"white\",\"gridwidth\":2}},\"shapedefaults\":{\"line\":{\"color\":\"#2a3f5f\"}},\"annotationdefaults\":{\"arrowcolor\":\"#2a3f5f\",\"arrowhead\":0,\"arrowwidth\":1},\"geo\":{\"bgcolor\":\"white\",\"landcolor\":\"#E5ECF6\",\"subunitcolor\":\"white\",\"showland\":true,\"showlakes\":true,\"lakecolor\":\"white\"},\"title\":{\"x\":0.05},\"mapbox\":{\"style\":\"light\"}}},\"xaxis\":{\"anchor\":\"y\",\"domain\":[0.0,1.0],\"scaleanchor\":\"y\",\"constrain\":\"domain\"},\"yaxis\":{\"anchor\":\"x\",\"domain\":[0.0,1.0],\"autorange\":\"reversed\",\"constrain\":\"domain\"},\"coloraxis\":{\"colorbar\":{\"title\":{\"text\":\"Correlation\"}},\"colorscale\":[[0.0,\"#440154\"],[0.1111111111111111,\"#482878\"],[0.2222222222222222,\"#3e4989\"],[0.3333333333333333,\"#31688e\"],[0.4444444444444444,\"#26828e\"],[0.5555555555555556,\"#1f9e89\"],[0.6666666666666666,\"#35b779\"],[0.7777777777777778,\"#6ece58\"],[0.8888888888888888,\"#b5de2b\"],[1.0,\"#fde725\"]]},\"margin\":{\"t\":80,\"l\":40,\"r\":40,\"b\":40},\"font\":{\"size\":10},\"title\":{\"text\":\"Correlation of Variables\"},\"width\":1000,\"height\":800,\"annotations\":[{\"font\":{\"color\":\"black\",\"size\":8},\"showarrow\":false,\"text\":\"1.0\",\"x\":\"calories\",\"y\":\"calories\"},{\"font\":{\"color\":\"black\",\"size\":8},\"showarrow\":false,\"text\":\"0.03\",\"x\":\"calories\",\"y\":\"protein\"},{\"font\":{\"color\":\"black\",\"size\":8},\"showarrow\":false,\"text\":\"0.51\",\"x\":\"calories\",\"y\":\"fat\"},{\"font\":{\"color\":\"black\",\"size\":8},\"showarrow\":false,\"text\":\"0.3\",\"x\":\"calories\",\"y\":\"sodium\"},{\"font\":{\"color\":\"black\",\"size\":8},\"showarrow\":false,\"text\":\"-0.3\",\"x\":\"calories\",\"y\":\"fiber\"},{\"font\":{\"color\":\"black\",\"size\":8},\"showarrow\":false,\"text\":\"0.27\",\"x\":\"calories\",\"y\":\"carbo\"},{\"font\":{\"color\":\"black\",\"size\":8},\"showarrow\":false,\"text\":\"0.57\",\"x\":\"calories\",\"y\":\"sugars\"},{\"font\":{\"color\":\"black\",\"size\":8},\"showarrow\":false,\"text\":\"-0.07\",\"x\":\"calories\",\"y\":\"potass\"},{\"font\":{\"color\":\"black\",\"size\":8},\"showarrow\":false,\"text\":\"0.26\",\"x\":\"calories\",\"y\":\"vitamins\"},{\"font\":{\"color\":\"black\",\"size\":8},\"showarrow\":false,\"text\":\"0.09\",\"x\":\"calories\",\"y\":\"shelf\"},{\"font\":{\"color\":\"black\",\"size\":8},\"showarrow\":false,\"text\":\"0.7\",\"x\":\"calories\",\"y\":\"weight\"},{\"font\":{\"color\":\"black\",\"size\":8},\"showarrow\":false,\"text\":\"0.09\",\"x\":\"calories\",\"y\":\"cups\"},{\"font\":{\"color\":\"black\",\"size\":8},\"showarrow\":false,\"text\":\"-0.69\",\"x\":\"calories\",\"y\":\"rating\"},{\"font\":{\"color\":\"black\",\"size\":8},\"showarrow\":false,\"text\":\"0.03\",\"x\":\"protein\",\"y\":\"calories\"},{\"font\":{\"color\":\"black\",\"size\":8},\"showarrow\":false,\"text\":\"1.0\",\"x\":\"protein\",\"y\":\"protein\"},{\"font\":{\"color\":\"black\",\"size\":8},\"showarrow\":false,\"text\":\"0.2\",\"x\":\"protein\",\"y\":\"fat\"},{\"font\":{\"color\":\"black\",\"size\":8},\"showarrow\":false,\"text\":\"0.01\",\"x\":\"protein\",\"y\":\"sodium\"},{\"font\":{\"color\":\"black\",\"size\":8},\"showarrow\":false,\"text\":\"0.51\",\"x\":\"protein\",\"y\":\"fiber\"},{\"font\":{\"color\":\"black\",\"size\":8},\"showarrow\":false,\"text\":\"-0.04\",\"x\":\"protein\",\"y\":\"carbo\"},{\"font\":{\"color\":\"black\",\"size\":8},\"showarrow\":false,\"text\":\"-0.29\",\"x\":\"protein\",\"y\":\"sugars\"},{\"font\":{\"color\":\"black\",\"size\":8},\"showarrow\":false,\"text\":\"0.58\",\"x\":\"protein\",\"y\":\"potass\"},{\"font\":{\"color\":\"black\",\"size\":8},\"showarrow\":false,\"text\":\"0.05\",\"x\":\"protein\",\"y\":\"vitamins\"},{\"font\":{\"color\":\"black\",\"size\":8},\"showarrow\":false,\"text\":\"0.2\",\"x\":\"protein\",\"y\":\"shelf\"},{\"font\":{\"color\":\"black\",\"size\":8},\"showarrow\":false,\"text\":\"0.23\",\"x\":\"protein\",\"y\":\"weight\"},{\"font\":{\"color\":\"black\",\"size\":8},\"showarrow\":false,\"text\":\"-0.24\",\"x\":\"protein\",\"y\":\"cups\"},{\"font\":{\"color\":\"black\",\"size\":8},\"showarrow\":false,\"text\":\"0.47\",\"x\":\"protein\",\"y\":\"rating\"},{\"font\":{\"color\":\"black\",\"size\":8},\"showarrow\":false,\"text\":\"0.51\",\"x\":\"fat\",\"y\":\"calories\"},{\"font\":{\"color\":\"black\",\"size\":8},\"showarrow\":false,\"text\":\"0.2\",\"x\":\"fat\",\"y\":\"protein\"},{\"font\":{\"color\":\"black\",\"size\":8},\"showarrow\":false,\"text\":\"1.0\",\"x\":\"fat\",\"y\":\"fat\"},{\"font\":{\"color\":\"black\",\"size\":8},\"showarrow\":false,\"text\":\"0.0\",\"x\":\"fat\",\"y\":\"sodium\"},{\"font\":{\"color\":\"black\",\"size\":8},\"showarrow\":false,\"text\":\"0.01\",\"x\":\"fat\",\"y\":\"fiber\"},{\"font\":{\"color\":\"black\",\"size\":8},\"showarrow\":false,\"text\":\"-0.28\",\"x\":\"fat\",\"y\":\"carbo\"},{\"font\":{\"color\":\"black\",\"size\":8},\"showarrow\":false,\"text\":\"0.29\",\"x\":\"fat\",\"y\":\"sugars\"},{\"font\":{\"color\":\"black\",\"size\":8},\"showarrow\":false,\"text\":\"0.2\",\"x\":\"fat\",\"y\":\"potass\"},{\"font\":{\"color\":\"black\",\"size\":8},\"showarrow\":false,\"text\":\"-0.03\",\"x\":\"fat\",\"y\":\"vitamins\"},{\"font\":{\"color\":\"black\",\"size\":8},\"showarrow\":false,\"text\":\"0.28\",\"x\":\"fat\",\"y\":\"shelf\"},{\"font\":{\"color\":\"black\",\"size\":8},\"showarrow\":false,\"text\":\"0.22\",\"x\":\"fat\",\"y\":\"weight\"},{\"font\":{\"color\":\"black\",\"size\":8},\"showarrow\":false,\"text\":\"-0.16\",\"x\":\"fat\",\"y\":\"cups\"},{\"font\":{\"color\":\"black\",\"size\":8},\"showarrow\":false,\"text\":\"-0.41\",\"x\":\"fat\",\"y\":\"rating\"},{\"font\":{\"color\":\"black\",\"size\":8},\"showarrow\":false,\"text\":\"0.3\",\"x\":\"sodium\",\"y\":\"calories\"},{\"font\":{\"color\":\"black\",\"size\":8},\"showarrow\":false,\"text\":\"0.01\",\"x\":\"sodium\",\"y\":\"protein\"},{\"font\":{\"color\":\"black\",\"size\":8},\"showarrow\":false,\"text\":\"0.0\",\"x\":\"sodium\",\"y\":\"fat\"},{\"font\":{\"color\":\"black\",\"size\":8},\"showarrow\":false,\"text\":\"1.0\",\"x\":\"sodium\",\"y\":\"sodium\"},{\"font\":{\"color\":\"black\",\"size\":8},\"showarrow\":false,\"text\":\"-0.07\",\"x\":\"sodium\",\"y\":\"fiber\"},{\"font\":{\"color\":\"black\",\"size\":8},\"showarrow\":false,\"text\":\"0.33\",\"x\":\"sodium\",\"y\":\"carbo\"},{\"font\":{\"color\":\"black\",\"size\":8},\"showarrow\":false,\"text\":\"0.04\",\"x\":\"sodium\",\"y\":\"sugars\"},{\"font\":{\"color\":\"black\",\"size\":8},\"showarrow\":false,\"text\":\"-0.04\",\"x\":\"sodium\",\"y\":\"potass\"},{\"font\":{\"color\":\"black\",\"size\":8},\"showarrow\":false,\"text\":\"0.33\",\"x\":\"sodium\",\"y\":\"vitamins\"},{\"font\":{\"color\":\"black\",\"size\":8},\"showarrow\":false,\"text\":\"-0.12\",\"x\":\"sodium\",\"y\":\"shelf\"},{\"font\":{\"color\":\"black\",\"size\":8},\"showarrow\":false,\"text\":\"0.31\",\"x\":\"sodium\",\"y\":\"weight\"},{\"font\":{\"color\":\"black\",\"size\":8},\"showarrow\":false,\"text\":\"0.12\",\"x\":\"sodium\",\"y\":\"cups\"},{\"font\":{\"color\":\"black\",\"size\":8},\"showarrow\":false,\"text\":\"-0.38\",\"x\":\"sodium\",\"y\":\"rating\"},{\"font\":{\"color\":\"black\",\"size\":8},\"showarrow\":false,\"text\":\"-0.3\",\"x\":\"fiber\",\"y\":\"calories\"},{\"font\":{\"color\":\"black\",\"size\":8},\"showarrow\":false,\"text\":\"0.51\",\"x\":\"fiber\",\"y\":\"protein\"},{\"font\":{\"color\":\"black\",\"size\":8},\"showarrow\":false,\"text\":\"0.01\",\"x\":\"fiber\",\"y\":\"fat\"},{\"font\":{\"color\":\"black\",\"size\":8},\"showarrow\":false,\"text\":\"-0.07\",\"x\":\"fiber\",\"y\":\"sodium\"},{\"font\":{\"color\":\"black\",\"size\":8},\"showarrow\":false,\"text\":\"1.0\",\"x\":\"fiber\",\"y\":\"fiber\"},{\"font\":{\"color\":\"black\",\"size\":8},\"showarrow\":false,\"text\":\"-0.38\",\"x\":\"fiber\",\"y\":\"carbo\"},{\"font\":{\"color\":\"black\",\"size\":8},\"showarrow\":false,\"text\":\"-0.15\",\"x\":\"fiber\",\"y\":\"sugars\"},{\"font\":{\"color\":\"black\",\"size\":8},\"showarrow\":false,\"text\":\"0.91\",\"x\":\"fiber\",\"y\":\"potass\"},{\"font\":{\"color\":\"black\",\"size\":8},\"showarrow\":false,\"text\":\"-0.04\",\"x\":\"fiber\",\"y\":\"vitamins\"},{\"font\":{\"color\":\"black\",\"size\":8},\"showarrow\":false,\"text\":\"0.31\",\"x\":\"fiber\",\"y\":\"shelf\"},{\"font\":{\"color\":\"black\",\"size\":8},\"showarrow\":false,\"text\":\"0.25\",\"x\":\"fiber\",\"y\":\"weight\"},{\"font\":{\"color\":\"black\",\"size\":8},\"showarrow\":false,\"text\":\"-0.51\",\"x\":\"fiber\",\"y\":\"cups\"},{\"font\":{\"color\":\"black\",\"size\":8},\"showarrow\":false,\"text\":\"0.6\",\"x\":\"fiber\",\"y\":\"rating\"},{\"font\":{\"color\":\"black\",\"size\":8},\"showarrow\":false,\"text\":\"0.27\",\"x\":\"carbo\",\"y\":\"calories\"},{\"font\":{\"color\":\"black\",\"size\":8},\"showarrow\":false,\"text\":\"-0.04\",\"x\":\"carbo\",\"y\":\"protein\"},{\"font\":{\"color\":\"black\",\"size\":8},\"showarrow\":false,\"text\":\"-0.28\",\"x\":\"carbo\",\"y\":\"fat\"},{\"font\":{\"color\":\"black\",\"size\":8},\"showarrow\":false,\"text\":\"0.33\",\"x\":\"carbo\",\"y\":\"sodium\"},{\"font\":{\"color\":\"black\",\"size\":8},\"showarrow\":false,\"text\":\"-0.38\",\"x\":\"carbo\",\"y\":\"fiber\"},{\"font\":{\"color\":\"black\",\"size\":8},\"showarrow\":false,\"text\":\"1.0\",\"x\":\"carbo\",\"y\":\"carbo\"},{\"font\":{\"color\":\"black\",\"size\":8},\"showarrow\":false,\"text\":\"-0.45\",\"x\":\"carbo\",\"y\":\"sugars\"},{\"font\":{\"color\":\"black\",\"size\":8},\"showarrow\":false,\"text\":\"-0.37\",\"x\":\"carbo\",\"y\":\"potass\"},{\"font\":{\"color\":\"black\",\"size\":8},\"showarrow\":false,\"text\":\"0.25\",\"x\":\"carbo\",\"y\":\"vitamins\"},{\"font\":{\"color\":\"black\",\"size\":8},\"showarrow\":false,\"text\":\"-0.19\",\"x\":\"carbo\",\"y\":\"shelf\"},{\"font\":{\"color\":\"black\",\"size\":8},\"showarrow\":false,\"text\":\"0.14\",\"x\":\"carbo\",\"y\":\"weight\"},{\"font\":{\"color\":\"black\",\"size\":8},\"showarrow\":false,\"text\":\"0.36\",\"x\":\"carbo\",\"y\":\"cups\"},{\"font\":{\"color\":\"black\",\"size\":8},\"showarrow\":false,\"text\":\"0.06\",\"x\":\"carbo\",\"y\":\"rating\"},{\"font\":{\"color\":\"black\",\"size\":8},\"showarrow\":false,\"text\":\"0.57\",\"x\":\"sugars\",\"y\":\"calories\"},{\"font\":{\"color\":\"black\",\"size\":8},\"showarrow\":false,\"text\":\"-0.29\",\"x\":\"sugars\",\"y\":\"protein\"},{\"font\":{\"color\":\"black\",\"size\":8},\"showarrow\":false,\"text\":\"0.29\",\"x\":\"sugars\",\"y\":\"fat\"},{\"font\":{\"color\":\"black\",\"size\":8},\"showarrow\":false,\"text\":\"0.04\",\"x\":\"sugars\",\"y\":\"sodium\"},{\"font\":{\"color\":\"black\",\"size\":8},\"showarrow\":false,\"text\":\"-0.15\",\"x\":\"sugars\",\"y\":\"fiber\"},{\"font\":{\"color\":\"black\",\"size\":8},\"showarrow\":false,\"text\":\"-0.45\",\"x\":\"sugars\",\"y\":\"carbo\"},{\"font\":{\"color\":\"black\",\"size\":8},\"showarrow\":false,\"text\":\"1.0\",\"x\":\"sugars\",\"y\":\"sugars\"},{\"font\":{\"color\":\"black\",\"size\":8},\"showarrow\":false,\"text\":\"0.0\",\"x\":\"sugars\",\"y\":\"potass\"},{\"font\":{\"color\":\"black\",\"size\":8},\"showarrow\":false,\"text\":\"0.07\",\"x\":\"sugars\",\"y\":\"vitamins\"},{\"font\":{\"color\":\"black\",\"size\":8},\"showarrow\":false,\"text\":\"0.06\",\"x\":\"sugars\",\"y\":\"shelf\"},{\"font\":{\"color\":\"black\",\"size\":8},\"showarrow\":false,\"text\":\"0.46\",\"x\":\"sugars\",\"y\":\"weight\"},{\"font\":{\"color\":\"black\",\"size\":8},\"showarrow\":false,\"text\":\"-0.03\",\"x\":\"sugars\",\"y\":\"cups\"},{\"font\":{\"color\":\"black\",\"size\":8},\"showarrow\":false,\"text\":\"-0.76\",\"x\":\"sugars\",\"y\":\"rating\"},{\"font\":{\"color\":\"black\",\"size\":8},\"showarrow\":false,\"text\":\"-0.07\",\"x\":\"potass\",\"y\":\"calories\"},{\"font\":{\"color\":\"black\",\"size\":8},\"showarrow\":false,\"text\":\"0.58\",\"x\":\"potass\",\"y\":\"protein\"},{\"font\":{\"color\":\"black\",\"size\":8},\"showarrow\":false,\"text\":\"0.2\",\"x\":\"potass\",\"y\":\"fat\"},{\"font\":{\"color\":\"black\",\"size\":8},\"showarrow\":false,\"text\":\"-0.04\",\"x\":\"potass\",\"y\":\"sodium\"},{\"font\":{\"color\":\"black\",\"size\":8},\"showarrow\":false,\"text\":\"0.91\",\"x\":\"potass\",\"y\":\"fiber\"},{\"font\":{\"color\":\"black\",\"size\":8},\"showarrow\":false,\"text\":\"-0.37\",\"x\":\"potass\",\"y\":\"carbo\"},{\"font\":{\"color\":\"black\",\"size\":8},\"showarrow\":false,\"text\":\"0.0\",\"x\":\"potass\",\"y\":\"sugars\"},{\"font\":{\"color\":\"black\",\"size\":8},\"showarrow\":false,\"text\":\"1.0\",\"x\":\"potass\",\"y\":\"potass\"},{\"font\":{\"color\":\"black\",\"size\":8},\"showarrow\":false,\"text\":\"-0.0\",\"x\":\"potass\",\"y\":\"vitamins\"},{\"font\":{\"color\":\"black\",\"size\":8},\"showarrow\":false,\"text\":\"0.39\",\"x\":\"potass\",\"y\":\"shelf\"},{\"font\":{\"color\":\"black\",\"size\":8},\"showarrow\":false,\"text\":\"0.42\",\"x\":\"potass\",\"y\":\"weight\"},{\"font\":{\"color\":\"black\",\"size\":8},\"showarrow\":false,\"text\":\"-0.5\",\"x\":\"potass\",\"y\":\"cups\"},{\"font\":{\"color\":\"black\",\"size\":8},\"showarrow\":false,\"text\":\"0.42\",\"x\":\"potass\",\"y\":\"rating\"},{\"font\":{\"color\":\"black\",\"size\":8},\"showarrow\":false,\"text\":\"0.26\",\"x\":\"vitamins\",\"y\":\"calories\"},{\"font\":{\"color\":\"black\",\"size\":8},\"showarrow\":false,\"text\":\"0.05\",\"x\":\"vitamins\",\"y\":\"protein\"},{\"font\":{\"color\":\"black\",\"size\":8},\"showarrow\":false,\"text\":\"-0.03\",\"x\":\"vitamins\",\"y\":\"fat\"},{\"font\":{\"color\":\"black\",\"size\":8},\"showarrow\":false,\"text\":\"0.33\",\"x\":\"vitamins\",\"y\":\"sodium\"},{\"font\":{\"color\":\"black\",\"size\":8},\"showarrow\":false,\"text\":\"-0.04\",\"x\":\"vitamins\",\"y\":\"fiber\"},{\"font\":{\"color\":\"black\",\"size\":8},\"showarrow\":false,\"text\":\"0.25\",\"x\":\"vitamins\",\"y\":\"carbo\"},{\"font\":{\"color\":\"black\",\"size\":8},\"showarrow\":false,\"text\":\"0.07\",\"x\":\"vitamins\",\"y\":\"sugars\"},{\"font\":{\"color\":\"black\",\"size\":8},\"showarrow\":false,\"text\":\"-0.0\",\"x\":\"vitamins\",\"y\":\"potass\"},{\"font\":{\"color\":\"black\",\"size\":8},\"showarrow\":false,\"text\":\"1.0\",\"x\":\"vitamins\",\"y\":\"vitamins\"},{\"font\":{\"color\":\"black\",\"size\":8},\"showarrow\":false,\"text\":\"0.28\",\"x\":\"vitamins\",\"y\":\"shelf\"},{\"font\":{\"color\":\"black\",\"size\":8},\"showarrow\":false,\"text\":\"0.32\",\"x\":\"vitamins\",\"y\":\"weight\"},{\"font\":{\"color\":\"black\",\"size\":8},\"showarrow\":false,\"text\":\"0.13\",\"x\":\"vitamins\",\"y\":\"cups\"},{\"font\":{\"color\":\"black\",\"size\":8},\"showarrow\":false,\"text\":\"-0.21\",\"x\":\"vitamins\",\"y\":\"rating\"},{\"font\":{\"color\":\"black\",\"size\":8},\"showarrow\":false,\"text\":\"0.09\",\"x\":\"shelf\",\"y\":\"calories\"},{\"font\":{\"color\":\"black\",\"size\":8},\"showarrow\":false,\"text\":\"0.2\",\"x\":\"shelf\",\"y\":\"protein\"},{\"font\":{\"color\":\"black\",\"size\":8},\"showarrow\":false,\"text\":\"0.28\",\"x\":\"shelf\",\"y\":\"fat\"},{\"font\":{\"color\":\"black\",\"size\":8},\"showarrow\":false,\"text\":\"-0.12\",\"x\":\"shelf\",\"y\":\"sodium\"},{\"font\":{\"color\":\"black\",\"size\":8},\"showarrow\":false,\"text\":\"0.31\",\"x\":\"shelf\",\"y\":\"fiber\"},{\"font\":{\"color\":\"black\",\"size\":8},\"showarrow\":false,\"text\":\"-0.19\",\"x\":\"shelf\",\"y\":\"carbo\"},{\"font\":{\"color\":\"black\",\"size\":8},\"showarrow\":false,\"text\":\"0.06\",\"x\":\"shelf\",\"y\":\"sugars\"},{\"font\":{\"color\":\"black\",\"size\":8},\"showarrow\":false,\"text\":\"0.39\",\"x\":\"shelf\",\"y\":\"potass\"},{\"font\":{\"color\":\"black\",\"size\":8},\"showarrow\":false,\"text\":\"0.28\",\"x\":\"shelf\",\"y\":\"vitamins\"},{\"font\":{\"color\":\"black\",\"size\":8},\"showarrow\":false,\"text\":\"1.0\",\"x\":\"shelf\",\"y\":\"shelf\"},{\"font\":{\"color\":\"black\",\"size\":8},\"showarrow\":false,\"text\":\"0.19\",\"x\":\"shelf\",\"y\":\"weight\"},{\"font\":{\"color\":\"black\",\"size\":8},\"showarrow\":false,\"text\":\"-0.35\",\"x\":\"shelf\",\"y\":\"cups\"},{\"font\":{\"color\":\"black\",\"size\":8},\"showarrow\":false,\"text\":\"0.05\",\"x\":\"shelf\",\"y\":\"rating\"},{\"font\":{\"color\":\"black\",\"size\":8},\"showarrow\":false,\"text\":\"0.7\",\"x\":\"weight\",\"y\":\"calories\"},{\"font\":{\"color\":\"black\",\"size\":8},\"showarrow\":false,\"text\":\"0.23\",\"x\":\"weight\",\"y\":\"protein\"},{\"font\":{\"color\":\"black\",\"size\":8},\"showarrow\":false,\"text\":\"0.22\",\"x\":\"weight\",\"y\":\"fat\"},{\"font\":{\"color\":\"black\",\"size\":8},\"showarrow\":false,\"text\":\"0.31\",\"x\":\"weight\",\"y\":\"sodium\"},{\"font\":{\"color\":\"black\",\"size\":8},\"showarrow\":false,\"text\":\"0.25\",\"x\":\"weight\",\"y\":\"fiber\"},{\"font\":{\"color\":\"black\",\"size\":8},\"showarrow\":false,\"text\":\"0.14\",\"x\":\"weight\",\"y\":\"carbo\"},{\"font\":{\"color\":\"black\",\"size\":8},\"showarrow\":false,\"text\":\"0.46\",\"x\":\"weight\",\"y\":\"sugars\"},{\"font\":{\"color\":\"black\",\"size\":8},\"showarrow\":false,\"text\":\"0.42\",\"x\":\"weight\",\"y\":\"potass\"},{\"font\":{\"color\":\"black\",\"size\":8},\"showarrow\":false,\"text\":\"0.32\",\"x\":\"weight\",\"y\":\"vitamins\"},{\"font\":{\"color\":\"black\",\"size\":8},\"showarrow\":false,\"text\":\"0.19\",\"x\":\"weight\",\"y\":\"shelf\"},{\"font\":{\"color\":\"black\",\"size\":8},\"showarrow\":false,\"text\":\"1.0\",\"x\":\"weight\",\"y\":\"weight\"},{\"font\":{\"color\":\"black\",\"size\":8},\"showarrow\":false,\"text\":\"-0.2\",\"x\":\"weight\",\"y\":\"cups\"},{\"font\":{\"color\":\"black\",\"size\":8},\"showarrow\":false,\"text\":\"-0.3\",\"x\":\"weight\",\"y\":\"rating\"},{\"font\":{\"color\":\"black\",\"size\":8},\"showarrow\":false,\"text\":\"0.09\",\"x\":\"cups\",\"y\":\"calories\"},{\"font\":{\"color\":\"black\",\"size\":8},\"showarrow\":false,\"text\":\"-0.24\",\"x\":\"cups\",\"y\":\"protein\"},{\"font\":{\"color\":\"black\",\"size\":8},\"showarrow\":false,\"text\":\"-0.16\",\"x\":\"cups\",\"y\":\"fat\"},{\"font\":{\"color\":\"black\",\"size\":8},\"showarrow\":false,\"text\":\"0.12\",\"x\":\"cups\",\"y\":\"sodium\"},{\"font\":{\"color\":\"black\",\"size\":8},\"showarrow\":false,\"text\":\"-0.51\",\"x\":\"cups\",\"y\":\"fiber\"},{\"font\":{\"color\":\"black\",\"size\":8},\"showarrow\":false,\"text\":\"0.36\",\"x\":\"cups\",\"y\":\"carbo\"},{\"font\":{\"color\":\"black\",\"size\":8},\"showarrow\":false,\"text\":\"-0.03\",\"x\":\"cups\",\"y\":\"sugars\"},{\"font\":{\"color\":\"black\",\"size\":8},\"showarrow\":false,\"text\":\"-0.5\",\"x\":\"cups\",\"y\":\"potass\"},{\"font\":{\"color\":\"black\",\"size\":8},\"showarrow\":false,\"text\":\"0.13\",\"x\":\"cups\",\"y\":\"vitamins\"},{\"font\":{\"color\":\"black\",\"size\":8},\"showarrow\":false,\"text\":\"-0.35\",\"x\":\"cups\",\"y\":\"shelf\"},{\"font\":{\"color\":\"black\",\"size\":8},\"showarrow\":false,\"text\":\"-0.2\",\"x\":\"cups\",\"y\":\"weight\"},{\"font\":{\"color\":\"black\",\"size\":8},\"showarrow\":false,\"text\":\"1.0\",\"x\":\"cups\",\"y\":\"cups\"},{\"font\":{\"color\":\"black\",\"size\":8},\"showarrow\":false,\"text\":\"-0.22\",\"x\":\"cups\",\"y\":\"rating\"},{\"font\":{\"color\":\"black\",\"size\":8},\"showarrow\":false,\"text\":\"-0.69\",\"x\":\"rating\",\"y\":\"calories\"},{\"font\":{\"color\":\"black\",\"size\":8},\"showarrow\":false,\"text\":\"0.47\",\"x\":\"rating\",\"y\":\"protein\"},{\"font\":{\"color\":\"black\",\"size\":8},\"showarrow\":false,\"text\":\"-0.41\",\"x\":\"rating\",\"y\":\"fat\"},{\"font\":{\"color\":\"black\",\"size\":8},\"showarrow\":false,\"text\":\"-0.38\",\"x\":\"rating\",\"y\":\"sodium\"},{\"font\":{\"color\":\"black\",\"size\":8},\"showarrow\":false,\"text\":\"0.6\",\"x\":\"rating\",\"y\":\"fiber\"},{\"font\":{\"color\":\"black\",\"size\":8},\"showarrow\":false,\"text\":\"0.06\",\"x\":\"rating\",\"y\":\"carbo\"},{\"font\":{\"color\":\"black\",\"size\":8},\"showarrow\":false,\"text\":\"-0.76\",\"x\":\"rating\",\"y\":\"sugars\"},{\"font\":{\"color\":\"black\",\"size\":8},\"showarrow\":false,\"text\":\"0.42\",\"x\":\"rating\",\"y\":\"potass\"},{\"font\":{\"color\":\"black\",\"size\":8},\"showarrow\":false,\"text\":\"-0.21\",\"x\":\"rating\",\"y\":\"vitamins\"},{\"font\":{\"color\":\"black\",\"size\":8},\"showarrow\":false,\"text\":\"0.05\",\"x\":\"rating\",\"y\":\"shelf\"},{\"font\":{\"color\":\"black\",\"size\":8},\"showarrow\":false,\"text\":\"-0.3\",\"x\":\"rating\",\"y\":\"weight\"},{\"font\":{\"color\":\"black\",\"size\":8},\"showarrow\":false,\"text\":\"-0.22\",\"x\":\"rating\",\"y\":\"cups\"},{\"font\":{\"color\":\"black\",\"size\":8},\"showarrow\":false,\"text\":\"1.0\",\"x\":\"rating\",\"y\":\"rating\"}]},                        {\"responsive\": true}                    ).then(function(){\n",
              "                            \n",
              "var gd = document.getElementById('b59914cc-4602-4fee-8ba8-9d56ade2da7c');\n",
              "var x = new MutationObserver(function (mutations, observer) {{\n",
              "        var display = window.getComputedStyle(gd).display;\n",
              "        if (!display || display === 'none') {{\n",
              "            console.log([gd, 'removed!']);\n",
              "            Plotly.purge(gd);\n",
              "            observer.disconnect();\n",
              "        }}\n",
              "}});\n",
              "\n",
              "// Listen for the removal of the full notebook cells\n",
              "var notebookContainer = gd.closest('#notebook-container');\n",
              "if (notebookContainer) {{\n",
              "    x.observe(notebookContainer, {childList: true});\n",
              "}}\n",
              "\n",
              "// Listen for the clearing of the current output cell\n",
              "var outputEl = gd.closest('.output');\n",
              "if (outputEl) {{\n",
              "    x.observe(outputEl, {childList: true});\n",
              "}}\n",
              "\n",
              "                        })                };                            </script>        </div>\n",
              "</body>\n",
              "</html>"
            ]
          },
          "metadata": {}
        }
      ]
    },
    {
      "cell_type": "markdown",
      "source": [
        "#### Scaling Data"
      ],
      "metadata": {
        "id": "ZPR54Mf045rt"
      }
    },
    {
      "cell_type": "code",
      "source": [
        "from sklearn.preprocessing import MinMaxScaler, StandardScaler\n",
        "\n",
        "from sklearn.preprocessing import MinMaxScaler, StandardScaler\n",
        "\n",
        "df_training = df_Cereals.copy()\n",
        "\n",
        "# Extract numeric columns\n",
        "numeric_columns = df_training.select_dtypes(include=['int64', 'float64']).columns\n",
        "df_numeric = df_training[numeric_columns]\n",
        "\n",
        "# Normalizing a DataFrame using pandas:\n",
        "norm_df_pandas = (df_numeric - df_numeric.mean()) / df_numeric.std()\n",
        "\n",
        "# Normalizing a DataFrame using scikit-learn StandardScaler:\n",
        "scaler_standard = StandardScaler()\n",
        "norm_df_scikit_standard = pd.DataFrame(scaler_standard.fit_transform(df_numeric),\n",
        "                                       index=df_numeric.index, columns=df_numeric.columns)\n",
        "\n",
        "# Rescaling a DataFrame using pandas:\n",
        "rescaled_df_pandas = (df_numeric - df_numeric.min()) / (df_numeric.max() - df_numeric.min())\n",
        "\n",
        "# Rescaling a DataFrame using scikit-learn MinMaxScaler:\n",
        "scaler_minmax = MinMaxScaler()\n",
        "rescaled_df_scikit_minmax = pd.DataFrame(scaler_minmax.fit_transform(df_numeric),\n",
        "                                         index=df_numeric.index, columns=df_numeric.columns)\n",
        "\n",
        "\n"
      ],
      "metadata": {
        "id": "BuFSc3-x_UW8"
      },
      "execution_count": null,
      "outputs": []
    },
    {
      "cell_type": "markdown",
      "source": [
        "####Training/Testing"
      ],
      "metadata": {
        "id": "1pjiCjjDJDir"
      }
    },
    {
      "cell_type": "code",
      "source": [
        "from sklearn.model_selection import train_test_split\n",
        "\n",
        "# 'rating' is the target variable\n",
        "X = df_numeric.drop('rating', axis=1)  # Features\n",
        "y = df_numeric['rating']  # Target variable\n",
        "\n",
        "# Split the data into training and test sets\n",
        "X_train, X_test, y_train, y_test = train_test_split(X, y, test_size=0.2, random_state=42)\n",
        "\n",
        "# Display the shapes of the resulting sets\n",
        "print(\"X_train shape:\", X_train.shape)\n",
        "print(\"X_test shape:\", X_test.shape)\n",
        "print(\"y_train shape:\", y_train.shape)\n",
        "print(\"y_test shape:\", y_test.shape)\n"
      ],
      "metadata": {
        "colab": {
          "base_uri": "https://localhost:8080/"
        },
        "id": "mbFGh-UMD8y8",
        "outputId": "61b8da18-94e6-4c7c-d3ad-93e5019065be"
      },
      "execution_count": null,
      "outputs": [
        {
          "output_type": "stream",
          "name": "stdout",
          "text": [
            "X_train shape: (59, 12)\n",
            "X_test shape: (15, 12)\n",
            "y_train shape: (59,)\n",
            "y_test shape: (15,)\n"
          ]
        }
      ]
    },
    {
      "cell_type": "markdown",
      "source": [
        "#### Linear Regression"
      ],
      "metadata": {
        "id": "Cn3g_IhJLALh"
      }
    },
    {
      "cell_type": "code",
      "source": [
        "from sklearn.linear_model import LinearRegression\n",
        "from sklearn.metrics import mean_squared_error, r2_score\n",
        "import numpy as np\n",
        "\n",
        "X = df_numeric.drop('rating', axis=1)  # Features\n",
        "y = df_numeric['rating']  # Target variable\n",
        "\n",
        "# Split the data into training and test sets\n",
        "# it's an 80/20 split\n",
        "\n",
        "# random_state parameter ensures reproducibility:\n",
        "# meaning if you run the code multiple times, you'll get the same split.\n",
        "\n",
        "X_train, X_test, y_train, y_test = train_test_split(X, y, test_size=0.2, random_state=2)\n",
        "\n",
        "model = LinearRegression() # Create a linear regression model\n",
        "model.fit(X_train, y_train)# Train the model\n",
        "\n",
        "# Make predictions on the test set\n",
        "y_pred = model.predict(X_test)\n",
        "\n",
        "# Evaluate the model\n",
        "mse = mean_squared_error(y_test, y_pred)\n",
        "r2 = r2_score(y_test, y_pred)\n",
        "\n",
        "print(\"Mean Squared Error:\", mse)\n",
        "print(\"R-squared:\", r2)\n"
      ],
      "metadata": {
        "colab": {
          "base_uri": "https://localhost:8080/"
        },
        "id": "H0N-qiLyLDV6",
        "outputId": "397fbede-549a-4f9c-80f6-605192dc1c73"
      },
      "execution_count": null,
      "outputs": [
        {
          "output_type": "stream",
          "name": "stdout",
          "text": [
            "Mean Squared Error: 1.0381801424793498e-13\n",
            "R-squared: 0.9999999999999993\n"
          ]
        }
      ]
    },
    {
      "cell_type": "code",
      "source": [
        "from sklearn.metrics import mean_squared_error, mean_absolute_error\n",
        "\n",
        "# Assuming y_test is the actual target values and y_pred is the predicted values\n",
        "# y_test and y_pred are assumed to be NumPy arrays or pandas Series\n",
        "\n",
        "# Calculate Mean Squared Error (MSE)\n",
        "mse = mean_squared_error(y_test, y_pred)\n",
        "\n",
        "# Calculate Root Mean Squared Error (RMSE)\n",
        "rmse = np.sqrt(mse)\n",
        "\n",
        "# Calculate Mean Absolute Error (MAE)\n",
        "mae = mean_absolute_error(y_test, y_pred)\n",
        "\n",
        "print(\"Root Mean Squared Error (RMSE):\", rmse)\n",
        "print(\"Mean Absolute Error (MAE):\", mae)"
      ],
      "metadata": {
        "colab": {
          "base_uri": "https://localhost:8080/"
        },
        "id": "2d9668X2QGs5",
        "outputId": "68b0c8f8-7b57-4958-addb-d26dbad7b236"
      },
      "execution_count": null,
      "outputs": [
        {
          "output_type": "stream",
          "name": "stdout",
          "text": [
            "Root Mean Squared Error (RMSE): 3.2220802945912904e-07\n",
            "Mean Absolute Error (MAE): 2.755553457708023e-07\n"
          ]
        }
      ]
    },
    {
      "cell_type": "markdown",
      "source": [
        "**Initual Observations**:\n",
        "\n",
        "A very low MSE suggests that the model predictions are extremely close to the actual values. The R-squared value also indicates that the model explains almost all of the variability in the target variable.\n",
        "\n",
        "Both the RMSE and MAE scores suggest that the linear regression model is providing highly accurate predictions or predictions that are very close to the actual valies.\n",
        "\n",
        "Even thougth these scores suggest that the linear regression model is performing exceptionally well, providing predictions that are very close to the actual values, it is critical to also consider the potential of overfitting, especially since the dataset is not large. Achieving such high performance metrics might indicate that the model has memorized the training data and may not generalize well to new, unseen data."
      ],
      "metadata": {
        "id": "jgbVM30tDlme"
      }
    },
    {
      "cell_type": "code",
      "source": [
        "import matplotlib.pyplot as plt\n",
        "\n",
        "# Scatter plot of actual vs. predicted values\n",
        "plt.scatter(y_test, y_pred)\n",
        "plt.title('Linear Regression: Actual vs. Predicted')\n",
        "plt.xlabel('Actual Ratings')\n",
        "plt.ylabel('Predicted Ratings')\n",
        "plt.show()\n"
      ],
      "metadata": {
        "colab": {
          "base_uri": "https://localhost:8080/",
          "height": 472
        },
        "id": "jebtsqMwLgRy",
        "outputId": "9c1c152a-a92e-48ba-c3d8-ce1619ff0e65"
      },
      "execution_count": null,
      "outputs": [
        {
          "output_type": "display_data",
          "data": {
            "text/plain": [
              "<Figure size 640x480 with 1 Axes>"
            ],
            "image/png": "[encoded data removed]"
          },
          "metadata": {}
        }
      ]
    },
    {
      "cell_type": "code",
      "source": [
        "# Residual plot\n",
        "residuals = y_test - y_pred\n",
        "plt.scatter(y_test, residuals)\n",
        "plt.axhline(y=0, color='r', linestyle='--')\n",
        "plt.title('Residual Plot')\n",
        "plt.xlabel('Actual Ratings')\n",
        "plt.ylabel('Residuals')\n",
        "plt.show()\n"
      ],
      "metadata": {
        "colab": {
          "base_uri": "https://localhost:8080/",
          "height": 472
        },
        "id": "-ih_aC-WLiQm",
        "outputId": "5c08ead0-cfca-49c1-caa6-3b3b163f9a35"
      },
      "execution_count": null,
      "outputs": [
        {
          "output_type": "display_data",
          "data": {
            "text/plain": [
              "<Figure size 640x480 with 1 Axes>"
            ],
            "image/png": "[encoded data removed]"
          },
          "metadata": {}
        }
      ]
    },
    {
      "cell_type": "markdown",
      "source": [
        "# **Plot Observatons**:\n",
        "\n",
        "The **first plot** shows that the model is performing well because the points fall on or close to a diagonal line.\n",
        "\n",
        "The **second plot** is a residual plot that shows the differences between the actual and predicted values. This plot checks for trends. The model is provided to be unbaised because the residuals are randomly scattered around the horizontal line."
      ],
      "metadata": {
        "id": "hdYujWmVGOCE"
      }
    },
    {
      "cell_type": "code",
      "source": [
        "from sklearn.model_selection import cross_val_score\n",
        "\n",
        "# Create a linear regression model\n",
        "model = LinearRegression()\n",
        "\n",
        "# Perform cross-validation\n",
        "cv_scores = cross_val_score(model, X, y, cv=5, scoring='r2')\n",
        "\n",
        "# Display cross-validation scores\n",
        "print(\"Cross-Validation R-squared Scores:\", cv_scores)\n",
        "print(\"Mean R-squared:\", np.mean(cv_scores))\n"
      ],
      "metadata": {
        "colab": {
          "base_uri": "https://localhost:8080/"
        },
        "id": "7u1rEqWlMQiu",
        "outputId": "f46d1fda-898d-45a8-ab7f-f94e0b1afa9c"
      },
      "execution_count": null,
      "outputs": [
        {
          "output_type": "stream",
          "name": "stdout",
          "text": [
            "Cross-Validation R-squared Scores: [1. 1. 1. 1. 1.]\n",
            "Mean R-squared: 0.9999999999999989\n"
          ]
        }
      ]
    },
    {
      "cell_type": "markdown",
      "source": [
        "## Validation Observations:\n",
        "\n",
        "Getting an R-squared of 1.0 on every fold indicates that the model is possibily fitting the data extremely well, indicating a sign of **overfitting**, especially since the dataset is not very large."
      ],
      "metadata": {
        "id": "v8VmOfjhHX0h"
      }
    },
    {
      "cell_type": "markdown",
      "source": [
        "## Dropping Correlating Features"
      ],
      "metadata": {
        "id": "uQ3UL3jvAaGo"
      }
    },
    {
      "cell_type": "code",
      "source": [
        "df_Cereals = df_Cereals.drop(['fiber', 'potass'], axis=1)"
      ],
      "metadata": {
        "id": "1WgXCLunAZa8"
      },
      "execution_count": null,
      "outputs": []
    },
    {
      "cell_type": "code",
      "source": [
        "from sklearn.preprocessing import MinMaxScaler, StandardScaler\n",
        "\n",
        "from sklearn.preprocessing import MinMaxScaler, StandardScaler\n",
        "\n",
        "df_training = df_Cereals.copy()\n",
        "\n",
        "# Extract numeric columns\n",
        "numeric_columns = df_training.select_dtypes(include=['int64', 'float64']).columns\n",
        "df_numeric = df_training[numeric_columns]\n",
        "\n",
        "# Normalizing a DataFrame using pandas:\n",
        "norm_df_pandas = (df_numeric - df_numeric.mean()) / df_numeric.std()\n",
        "\n",
        "# Normalizing a DataFrame using scikit-learn StandardScaler:\n",
        "scaler_standard = StandardScaler()\n",
        "norm_df_scikit_standard = pd.DataFrame(scaler_standard.fit_transform(df_numeric),\n",
        "                                       index=df_numeric.index, columns=df_numeric.columns)\n",
        "\n",
        "# Rescaling a DataFrame using pandas:\n",
        "rescaled_df_pandas = (df_numeric - df_numeric.min()) / (df_numeric.max() - df_numeric.min())\n",
        "\n",
        "# Rescaling a DataFrame using scikit-learn MinMaxScaler:\n",
        "scaler_minmax = MinMaxScaler()\n",
        "rescaled_df_scikit_minmax = pd.DataFrame(scaler_minmax.fit_transform(df_numeric),\n",
        "                                         index=df_numeric.index, columns=df_numeric.columns)\n",
        "\n",
        "\n"
      ],
      "metadata": {
        "id": "mWFQAfqMCEFV"
      },
      "execution_count": null,
      "outputs": []
    },
    {
      "cell_type": "markdown",
      "source": [
        "####Training/Testing"
      ],
      "metadata": {
        "id": "H9u1ZOGOCEFW"
      }
    },
    {
      "cell_type": "code",
      "source": [
        "from sklearn.model_selection import train_test_split\n",
        "\n",
        "# 'rating' is the target variable\n",
        "X = df_numeric.drop('rating', axis=1)  # Features\n",
        "y = df_numeric['rating']  # Target variable\n",
        "\n",
        "# Split the data into training and test sets\n",
        "X_train, X_test, y_train, y_test = train_test_split(X, y, test_size=0.2, random_state=42)\n",
        "\n",
        "# Display the shapes of the resulting sets\n",
        "print(\"X_train shape:\", X_train.shape)\n",
        "print(\"X_test shape:\", X_test.shape)\n",
        "print(\"y_train shape:\", y_train.shape)\n",
        "print(\"y_test shape:\", y_test.shape)\n"
      ],
      "metadata": {
        "colab": {
          "base_uri": "https://localhost:8080/"
        },
        "outputId": "fcc98508-949c-426f-cc44-959ba971f4ee",
        "id": "PCuo7pdLCEFX"
      },
      "execution_count": null,
      "outputs": [
        {
          "output_type": "stream",
          "name": "stdout",
          "text": [
            "X_train shape: (59, 10)\n",
            "X_test shape: (15, 10)\n",
            "y_train shape: (59,)\n",
            "y_test shape: (15,)\n"
          ]
        }
      ]
    },
    {
      "cell_type": "markdown",
      "source": [
        "## Rerunning the Linear Regression Models\n",
        "\n",
        "Rerunning the model to see if it will preform better after we dropped some correlating features"
      ],
      "metadata": {
        "id": "LbY8m-VxCEFX"
      }
    },
    {
      "cell_type": "code",
      "source": [
        "from sklearn.linear_model import LinearRegression\n",
        "from sklearn.metrics import mean_squared_error, r2_score\n",
        "import numpy as np\n",
        "\n",
        "X = df_numeric.drop('rating', axis=1)  # Features\n",
        "y = df_numeric['rating']  # Target variable\n",
        "\n",
        "# Split the data into training and test sets\n",
        "# it's an 80/20 split\n",
        "\n",
        "# random_state parameter ensures reproducibility:\n",
        "# meaning if you run the code multiple times, you'll get the same split.\n",
        "\n",
        "X_train, X_test, y_train, y_test = train_test_split(X, y, test_size=0.2, random_state=2)\n",
        "\n",
        "model = LinearRegression() # Create a linear regression model\n",
        "model.fit(X_train, y_train)# Train the model\n",
        "\n",
        "# Make predictions on the test set\n",
        "y_pred = model.predict(X_test)\n",
        "\n",
        "# Evaluate the model\n",
        "mse = mean_squared_error(y_test, y_pred)\n",
        "r2 = r2_score(y_test, y_pred)\n",
        "\n",
        "print(\"Mean Squared Error:\", mse)\n",
        "print(\"R-squared:\", r2)\n"
      ],
      "metadata": {
        "colab": {
          "base_uri": "https://localhost:8080/"
        },
        "outputId": "c92a7ef2-a7a1-4513-cdc6-f16ba76db0cd",
        "id": "nSUf4WzcCEFX"
      },
      "execution_count": null,
      "outputs": [
        {
          "output_type": "stream",
          "name": "stdout",
          "text": [
            "Mean Squared Error: 7.047737791741596\n",
            "R-squared: 0.9546605607166941\n"
          ]
        }
      ]
    },
    {
      "cell_type": "code",
      "source": [
        "from sklearn.metrics import mean_squared_error, mean_absolute_error\n",
        "\n",
        "# Assuming y_test is the actual target values and y_pred is the predicted values\n",
        "# y_test and y_pred are assumed to be NumPy arrays or pandas Series\n",
        "\n",
        "# Calculate Mean Squared Error (MSE)\n",
        "mse = mean_squared_error(y_test, y_pred)\n",
        "\n",
        "# Calculate Root Mean Squared Error (RMSE)\n",
        "rmse = np.sqrt(mse)\n",
        "\n",
        "# Calculate Mean Absolute Error (MAE)\n",
        "mae = mean_absolute_error(y_test, y_pred)\n",
        "\n",
        "print(\"Root Mean Squared Error (RMSE):\", rmse)\n",
        "print(\"Mean Absolute Error (MAE):\", mae)"
      ],
      "metadata": {
        "colab": {
          "base_uri": "https://localhost:8080/"
        },
        "outputId": "6e4e8d37-78a6-4597-faf6-a44204163dec",
        "id": "nJZmuMpzCEFY"
      },
      "execution_count": null,
      "outputs": [
        {
          "output_type": "stream",
          "name": "stdout",
          "text": [
            "Root Mean Squared Error (RMSE): 2.654757576830999\n",
            "Mean Absolute Error (MAE): 1.8769295180665917\n"
          ]
        }
      ]
    },
    {
      "cell_type": "code",
      "source": [
        "from sklearn.model_selection import cross_val_score\n",
        "\n",
        "# Create a linear regression model\n",
        "model = LinearRegression()\n",
        "\n",
        "# Perform cross-validation\n",
        "cv_scores = cross_val_score(model, X, y, cv=5, scoring='r2')\n",
        "\n",
        "# Display cross-validation scores\n",
        "print(\"Cross-Validation R-squared Scores:\", cv_scores)\n",
        "print(\"Mean R-squared:\", np.mean(cv_scores))\n"
      ],
      "metadata": {
        "colab": {
          "base_uri": "https://localhost:8080/"
        },
        "outputId": "4a0d2719-4a53-4095-92d6-552d1384cf5e",
        "id": "Gr6tIMYSCEFY"
      },
      "execution_count": null,
      "outputs": [
        {
          "output_type": "stream",
          "name": "stdout",
          "text": [
            "Cross-Validation R-squared Scores: [0.82886324 0.95853969 0.22065541 0.82023781 0.94068815]\n",
            "Mean R-squared: 0.7537968587084961\n"
          ]
        }
      ]
    },
    {
      "cell_type": "markdown",
      "source": [
        "# **Observations**:\n",
        "\n",
        "Upon removing some correlated features, the R-squared value decreased from 0.999 to 0.955, signifying that the model now explains approximately 95.5% of the variance in the target variable. Both RMSE and MAE values reinforce that the model's predictions maintain a reasonable proximity to the actual values.\n",
        "\n",
        "The cross-validation R-squared scores offer additional insights into the model's generalization capability, revealing a mean R-squared of 0.7537968587084961 across various subsets of the data.\n",
        "\n",
        "In summary, the updated model demonstrates satisfactory performance based on these metrics, and the validation results suggest that concerns about overfitting have been alleviated."
      ],
      "metadata": {
        "id": "J_tj1TlXC4CH"
      }
    }
  ]
}